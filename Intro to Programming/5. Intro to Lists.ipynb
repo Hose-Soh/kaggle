{
 "cells": [
  {
   "cell_type": "markdown",
   "id": "4ab2ab9c",
   "metadata": {
    "papermill": {
     "duration": 0.008014,
     "end_time": "2022-09-18T20:47:48.584350",
     "exception": false,
     "start_time": "2022-09-18T20:47:48.576336",
     "status": "completed"
    },
    "tags": []
   },
   "source": [
    "**This notebook is an exercise in the [Intro to Programming](https://www.kaggle.com/learn/intro-to-programming) course.  You can reference the tutorial at [this link](https://www.kaggle.com/alexisbcook/intro-to-lists).**\n",
    "\n",
    "---\n"
   ]
  },
  {
   "cell_type": "markdown",
   "id": "dd4c441b",
   "metadata": {
    "papermill": {
     "duration": 0.006689,
     "end_time": "2022-09-18T20:47:48.598012",
     "exception": false,
     "start_time": "2022-09-18T20:47:48.591323",
     "status": "completed"
    },
    "tags": []
   },
   "source": [
    "In the tutorial, you learned how to define and modify Python lists.  In this exercise, you will use your new knowledge to solve several problems.\n",
    "\n",
    "# Set up the notebook\n",
    "\n",
    "Run the next code cell without changes to set up the notebook."
   ]
  },
  {
   "cell_type": "code",
   "execution_count": 1,
   "id": "30c78cf6",
   "metadata": {
    "execution": {
     "iopub.execute_input": "2022-09-18T20:47:48.614403Z",
     "iopub.status.busy": "2022-09-18T20:47:48.613384Z",
     "iopub.status.idle": "2022-09-18T20:47:48.678443Z",
     "shell.execute_reply": "2022-09-18T20:47:48.677496Z"
    },
    "papermill": {
     "duration": 0.076403,
     "end_time": "2022-09-18T20:47:48.681182",
     "exception": false,
     "start_time": "2022-09-18T20:47:48.604779",
     "status": "completed"
    },
    "tags": []
   },
   "outputs": [
    {
     "name": "stdout",
     "output_type": "stream",
     "text": [
      "Setup complete.\n"
     ]
    }
   ],
   "source": [
    "from learntools.core import binder\n",
    "binder.bind(globals())\n",
    "from learntools.intro_to_programming.ex5 import *\n",
    "print('Setup complete.')"
   ]
  },
  {
   "cell_type": "markdown",
   "id": "3694eb3f",
   "metadata": {
    "papermill": {
     "duration": 0.006984,
     "end_time": "2022-09-18T20:47:48.695315",
     "exception": false,
     "start_time": "2022-09-18T20:47:48.688331",
     "status": "completed"
    },
    "tags": []
   },
   "source": [
    "# Question 1\n",
    "\n",
    "You own a restaurant with five food dishes, organized in the Python list `menu` below.  One day, you decide to:\n",
    "- remove bean soup (`'bean soup'`) from the menu, and\n",
    "- add roasted beet salad (`'roasted beet salad'`) to the menu.\n",
    "\n",
    "Implement this change to the list below.  While completing this task, \n",
    "- do not change the line that creates the `menu` list.  \n",
    "- your answer should use `.remove()` and `.append()`.  "
   ]
  },
  {
   "cell_type": "code",
   "execution_count": 2,
   "id": "31f3906c",
   "metadata": {
    "execution": {
     "iopub.execute_input": "2022-09-18T20:47:48.711626Z",
     "iopub.status.busy": "2022-09-18T20:47:48.710941Z",
     "iopub.status.idle": "2022-09-18T20:47:48.722344Z",
     "shell.execute_reply": "2022-09-18T20:47:48.720986Z"
    },
    "papermill": {
     "duration": 0.022781,
     "end_time": "2022-09-18T20:47:48.724989",
     "exception": false,
     "start_time": "2022-09-18T20:47:48.702208",
     "status": "completed"
    },
    "tags": []
   },
   "outputs": [
    {
     "data": {
      "application/javascript": [
       "parent.postMessage({\"jupyterEvent\": \"custom.exercise_interaction\", \"data\": {\"outcomeType\": 1, \"valueTowardsCompletion\": 0.2, \"interactionType\": 1, \"questionType\": 2, \"questionId\": \"1_FoodMenu\", \"learnToolsVersion\": \"0.3.4\", \"failureMessage\": \"\", \"exceptionClass\": \"\", \"trace\": \"\"}}, \"*\")"
      ],
      "text/plain": [
       "<IPython.core.display.Javascript object>"
      ]
     },
     "metadata": {},
     "output_type": "display_data"
    },
    {
     "data": {
      "text/markdown": [
       "<span style=\"color:#33cc33\">Correct</span>"
      ],
      "text/plain": [
       "Correct"
      ]
     },
     "metadata": {},
     "output_type": "display_data"
    }
   ],
   "source": [
    "# Do not change: Initial menu for your restaurant\n",
    "menu = ['stewed meat with onions', 'bean soup', 'risotto with trout and shrimp',\n",
    "       'fish soup with cream and onion', 'gyro']\n",
    "\n",
    "# TODO: remove 'bean soup', and add 'roasted beet salad' to the end of the menu\n",
    "menu.remove(\"bean soup\")\n",
    "menu.append(\"roasted beet salad\")\n",
    "\n",
    "# Do not change: Check your answer\n",
    "q1.check()"
   ]
  },
  {
   "cell_type": "code",
   "execution_count": 3,
   "id": "c76d2e4f",
   "metadata": {
    "execution": {
     "iopub.execute_input": "2022-09-18T20:47:48.741679Z",
     "iopub.status.busy": "2022-09-18T20:47:48.740603Z",
     "iopub.status.idle": "2022-09-18T20:47:48.745263Z",
     "shell.execute_reply": "2022-09-18T20:47:48.744396Z"
    },
    "papermill": {
     "duration": 0.015115,
     "end_time": "2022-09-18T20:47:48.747336",
     "exception": false,
     "start_time": "2022-09-18T20:47:48.732221",
     "status": "completed"
    },
    "tags": []
   },
   "outputs": [],
   "source": [
    "# Uncomment to see a hint\n",
    "#q1.hint()\n",
    "\n",
    "# Uncomment to see the solution\n",
    "#q1.solution()"
   ]
  },
  {
   "cell_type": "markdown",
   "id": "ea424a31",
   "metadata": {
    "papermill": {
     "duration": 0.006697,
     "end_time": "2022-09-18T20:47:48.761747",
     "exception": false,
     "start_time": "2022-09-18T20:47:48.755050",
     "status": "completed"
    },
    "tags": []
   },
   "source": [
    "# Question 2\n",
    "\n",
    "The list `num_customers` contains the number of customers who came into your restaurant every day over the last month (which lasted thirty days).  Fill in values for each of the following:\n",
    "- `avg_first_seven` - average number of customers who visited in the first seven days\n",
    "- `avg_last_seven` - average number of customers who visited in the last seven days\n",
    "- `max_month` - number of customers on the day that got the most customers in the last month\n",
    "- `min_month` - number of customers on the day that got the least customers in the last month\n",
    "\n",
    "Answer this question by writing code.  For instance, if you have to find the minimum value in a list, use `min()` instead of scanning for the smallest value and directly filling in a number."
   ]
  },
  {
   "cell_type": "code",
   "execution_count": 4,
   "id": "39eae66f",
   "metadata": {
    "execution": {
     "iopub.execute_input": "2022-09-18T20:47:48.778127Z",
     "iopub.status.busy": "2022-09-18T20:47:48.777309Z",
     "iopub.status.idle": "2022-09-18T20:47:48.787705Z",
     "shell.execute_reply": "2022-09-18T20:47:48.786590Z"
    },
    "papermill": {
     "duration": 0.021088,
     "end_time": "2022-09-18T20:47:48.789916",
     "exception": false,
     "start_time": "2022-09-18T20:47:48.768828",
     "status": "completed"
    },
    "tags": []
   },
   "outputs": [
    {
     "data": {
      "application/javascript": [
       "parent.postMessage({\"jupyterEvent\": \"custom.exercise_interaction\", \"data\": {\"outcomeType\": 1, \"valueTowardsCompletion\": 0.2, \"interactionType\": 1, \"questionType\": 1, \"questionId\": \"2_NumCustomers\", \"learnToolsVersion\": \"0.3.4\", \"failureMessage\": \"\", \"exceptionClass\": \"\", \"trace\": \"\"}}, \"*\")"
      ],
      "text/plain": [
       "<IPython.core.display.Javascript object>"
      ]
     },
     "metadata": {},
     "output_type": "display_data"
    },
    {
     "data": {
      "text/markdown": [
       "<span style=\"color:#33cc33\">Correct</span>"
      ],
      "text/plain": [
       "Correct"
      ]
     },
     "metadata": {},
     "output_type": "display_data"
    }
   ],
   "source": [
    "# Do not change: Number of customers each day for the last month\n",
    "num_customers = [137, 147, 135, 128, 170, 174, 165, 146, 126, 159,\n",
    "                 141, 148, 132, 147, 168, 153, 170, 161, 148, 152,\n",
    "                 141, 151, 131, 149, 164, 163, 143, 143, 166, 171]\n",
    "\n",
    "# TODO: Fill in values for the variables below\n",
    "avg_first_seven = sum(num_customers[0:7]) / 7 \n",
    "avg_last_seven = sum(num_customers[-7:]) /7 \n",
    "max_month = max(num_customers)\n",
    "min_month = min(num_customers)\n",
    "\n",
    "# Do not change: Check your answer\n",
    "q2.check()"
   ]
  },
  {
   "cell_type": "code",
   "execution_count": 5,
   "id": "e1e05e1a",
   "metadata": {
    "execution": {
     "iopub.execute_input": "2022-09-18T20:47:48.807486Z",
     "iopub.status.busy": "2022-09-18T20:47:48.807083Z",
     "iopub.status.idle": "2022-09-18T20:47:48.811610Z",
     "shell.execute_reply": "2022-09-18T20:47:48.810333Z"
    },
    "papermill": {
     "duration": 0.015594,
     "end_time": "2022-09-18T20:47:48.814048",
     "exception": false,
     "start_time": "2022-09-18T20:47:48.798454",
     "status": "completed"
    },
    "tags": []
   },
   "outputs": [],
   "source": [
    "# Uncomment to see a hint\n",
    "#q2.hint()\n",
    "\n",
    "# Uncomment to see the solution\n",
    "#q2.solution()"
   ]
  },
  {
   "cell_type": "markdown",
   "id": "94b5b61c",
   "metadata": {
    "papermill": {
     "duration": 0.007125,
     "end_time": "2022-09-18T20:47:48.828714",
     "exception": false,
     "start_time": "2022-09-18T20:47:48.821589",
     "status": "completed"
    },
    "tags": []
   },
   "source": [
    "# Question 3\n",
    "\n",
    "In the tutorial, we gave an example of a Python string with information that was better as a list."
   ]
  },
  {
   "cell_type": "code",
   "execution_count": 6,
   "id": "58e58ed2",
   "metadata": {
    "execution": {
     "iopub.execute_input": "2022-09-18T20:47:48.846101Z",
     "iopub.status.busy": "2022-09-18T20:47:48.845703Z",
     "iopub.status.idle": "2022-09-18T20:47:48.850686Z",
     "shell.execute_reply": "2022-09-18T20:47:48.849478Z"
    },
    "papermill": {
     "duration": 0.017002,
     "end_time": "2022-09-18T20:47:48.853356",
     "exception": false,
     "start_time": "2022-09-18T20:47:48.836354",
     "status": "completed"
    },
    "tags": []
   },
   "outputs": [],
   "source": [
    "flowers = \"pink primrose,hard-leaved pocket orchid,canterbury bells,sweet pea,english marigold,tiger lily,moon orchid,bird of paradise,monkshood,globe thistle\""
   ]
  },
  {
   "cell_type": "markdown",
   "id": "fc92fd72",
   "metadata": {
    "papermill": {
     "duration": 0.007968,
     "end_time": "2022-09-18T20:47:48.869248",
     "exception": false,
     "start_time": "2022-09-18T20:47:48.861280",
     "status": "completed"
    },
    "tags": []
   },
   "source": [
    "You can actually use Python to quickly turn this string into a list with `.split()`.  In the parentheses, we need to provide the character should be used to mark the end of one list item and the beginning of another, and enclose it in quotation marks.  In this case, that character is a comma."
   ]
  },
  {
   "cell_type": "code",
   "execution_count": 7,
   "id": "4a4a6033",
   "metadata": {
    "execution": {
     "iopub.execute_input": "2022-09-18T20:47:48.886096Z",
     "iopub.status.busy": "2022-09-18T20:47:48.885626Z",
     "iopub.status.idle": "2022-09-18T20:47:48.892481Z",
     "shell.execute_reply": "2022-09-18T20:47:48.890572Z"
    },
    "papermill": {
     "duration": 0.019035,
     "end_time": "2022-09-18T20:47:48.895757",
     "exception": false,
     "start_time": "2022-09-18T20:47:48.876722",
     "status": "completed"
    },
    "tags": []
   },
   "outputs": [
    {
     "name": "stdout",
     "output_type": "stream",
     "text": [
      "['pink primrose', 'hard-leaved pocket orchid', 'canterbury bells', 'sweet pea', 'english marigold', 'tiger lily', 'moon orchid', 'bird of paradise', 'monkshood', 'globe thistle']\n"
     ]
    }
   ],
   "source": [
    " print(flowers.split(\",\"))"
   ]
  },
  {
   "cell_type": "markdown",
   "id": "f341935a",
   "metadata": {
    "papermill": {
     "duration": 0.00714,
     "end_time": "2022-09-18T20:47:48.911268",
     "exception": false,
     "start_time": "2022-09-18T20:47:48.904128",
     "status": "completed"
    },
    "tags": []
   },
   "source": [
    "Now it is your turn to try this out!  Create two Python lists:\n",
    "- `letters` should be a Python list where each entry is an uppercase letter of the English alphabet.  For instance, the first two entries should be `\"A\"` and `\"B\"`, and the final two entries should be `\"Y\"` and `\"Z\"`.  Use the string `alphabet` to create this list.\n",
    "- `address` should be a Python list where each row in `address` is a different item in the list.  Currently, each row in `address` is separated by a comma. "
   ]
  },
  {
   "cell_type": "code",
   "execution_count": 8,
   "id": "3e110a78",
   "metadata": {
    "execution": {
     "iopub.execute_input": "2022-09-18T20:47:48.928014Z",
     "iopub.status.busy": "2022-09-18T20:47:48.927601Z",
     "iopub.status.idle": "2022-09-18T20:47:48.937936Z",
     "shell.execute_reply": "2022-09-18T20:47:48.936917Z"
    },
    "papermill": {
     "duration": 0.021891,
     "end_time": "2022-09-18T20:47:48.940581",
     "exception": false,
     "start_time": "2022-09-18T20:47:48.918690",
     "status": "completed"
    },
    "tags": []
   },
   "outputs": [
    {
     "data": {
      "application/javascript": [
       "parent.postMessage({\"jupyterEvent\": \"custom.exercise_interaction\", \"data\": {\"outcomeType\": 1, \"valueTowardsCompletion\": 0.2, \"interactionType\": 1, \"questionType\": 1, \"questionId\": \"3_SplitString\", \"learnToolsVersion\": \"0.3.4\", \"failureMessage\": \"\", \"exceptionClass\": \"\", \"trace\": \"\"}}, \"*\")"
      ],
      "text/plain": [
       "<IPython.core.display.Javascript object>"
      ]
     },
     "metadata": {},
     "output_type": "display_data"
    },
    {
     "data": {
      "text/markdown": [
       "<span style=\"color:#33cc33\">Correct</span>"
      ],
      "text/plain": [
       "Correct"
      ]
     },
     "metadata": {},
     "output_type": "display_data"
    }
   ],
   "source": [
    "# DO not change: Define two Python strings\n",
    "alphabet = \"A.B.C.D.E.F.G.H.I.J.K.L.M.N.O.P.Q.R.S.T.U.V.W.X.Y.Z\"\n",
    "address = \"Mr. H. Potter,The cupboard under the Stairs,4 Privet Drive,Little Whinging,Surrey\"\n",
    "\n",
    "# TODO: Convert strings into Python lists\n",
    "letters = alphabet.split(\".\")\n",
    "formatted_address = address.split(\",\")\n",
    "\n",
    "# Do not change: Check your answer\n",
    "q3.check()"
   ]
  },
  {
   "cell_type": "code",
   "execution_count": 9,
   "id": "f513af01",
   "metadata": {
    "execution": {
     "iopub.execute_input": "2022-09-18T20:47:48.958200Z",
     "iopub.status.busy": "2022-09-18T20:47:48.957727Z",
     "iopub.status.idle": "2022-09-18T20:47:48.962477Z",
     "shell.execute_reply": "2022-09-18T20:47:48.961299Z"
    },
    "papermill": {
     "duration": 0.016644,
     "end_time": "2022-09-18T20:47:48.965033",
     "exception": false,
     "start_time": "2022-09-18T20:47:48.948389",
     "status": "completed"
    },
    "tags": []
   },
   "outputs": [],
   "source": [
    "# Uncomment to see a hint\n",
    "#q3.hint()\n",
    "\n",
    "# Uncomment to see the solution\n",
    "#q3.solution()"
   ]
  },
  {
   "cell_type": "markdown",
   "id": "5813e9f0",
   "metadata": {
    "papermill": {
     "duration": 0.007418,
     "end_time": "2022-09-18T20:47:48.980095",
     "exception": false,
     "start_time": "2022-09-18T20:47:48.972677",
     "status": "completed"
    },
    "tags": []
   },
   "source": [
    "# Question 4\n",
    "\n",
    "In the Python course, you'll learn all about **list comprehensions**, which allow you to create a list based on the values in another list.  In this question, you'll get a brief preview of how they work.\n",
    "\n",
    "Say we're working with the list below."
   ]
  },
  {
   "cell_type": "code",
   "execution_count": 10,
   "id": "aa5cda81",
   "metadata": {
    "execution": {
     "iopub.execute_input": "2022-09-18T20:47:49.000064Z",
     "iopub.status.busy": "2022-09-18T20:47:48.999626Z",
     "iopub.status.idle": "2022-09-18T20:47:49.005312Z",
     "shell.execute_reply": "2022-09-18T20:47:49.003921Z"
    },
    "papermill": {
     "duration": 0.020272,
     "end_time": "2022-09-18T20:47:49.007950",
     "exception": false,
     "start_time": "2022-09-18T20:47:48.987678",
     "status": "completed"
    },
    "tags": []
   },
   "outputs": [],
   "source": [
    "test_ratings = [1, 2, 3, 4, 5]"
   ]
  },
  {
   "cell_type": "markdown",
   "id": "be5434a8",
   "metadata": {
    "papermill": {
     "duration": 0.007308,
     "end_time": "2022-09-18T20:47:49.023088",
     "exception": false,
     "start_time": "2022-09-18T20:47:49.015780",
     "status": "completed"
    },
    "tags": []
   },
   "source": [
    "Then we can use this list (`test_ratings`) to create a new list (`test_liked`) where each item has been turned into a boolean, depending on whether or not the item is greater than or equal to four."
   ]
  },
  {
   "cell_type": "code",
   "execution_count": 11,
   "id": "ff0748c8",
   "metadata": {
    "execution": {
     "iopub.execute_input": "2022-09-18T20:47:49.040421Z",
     "iopub.status.busy": "2022-09-18T20:47:49.040003Z",
     "iopub.status.idle": "2022-09-18T20:47:49.046749Z",
     "shell.execute_reply": "2022-09-18T20:47:49.045110Z"
    },
    "papermill": {
     "duration": 0.018432,
     "end_time": "2022-09-18T20:47:49.049458",
     "exception": false,
     "start_time": "2022-09-18T20:47:49.031026",
     "status": "completed"
    },
    "tags": []
   },
   "outputs": [
    {
     "name": "stdout",
     "output_type": "stream",
     "text": [
      "[False, False, False, True, True]\n"
     ]
    }
   ],
   "source": [
    "test_liked = [i>=4 for i in test_ratings]\n",
    "print(test_liked)"
   ]
  },
  {
   "cell_type": "markdown",
   "id": "b337f5d2",
   "metadata": {
    "papermill": {
     "duration": 0.007399,
     "end_time": "2022-09-18T20:47:49.064904",
     "exception": false,
     "start_time": "2022-09-18T20:47:49.057505",
     "status": "completed"
    },
    "tags": []
   },
   "source": [
    "In this question, you'll use this list comprehension to define a function `percentage_liked()` that takes one argument as input:\n",
    "- `ratings`: list of ratings that people gave to a movie, where each rating is a number between 1-5, inclusive\n",
    "\n",
    "We say someone liked the movie, if they gave a rating of either 4 or 5.  Your function should return the percentage of people who liked the movie.\n",
    "\n",
    "For instance, if we supply a value of `[1, 2, 3, 4, 5, 4, 5, 1]`, then 50% (4/8) of the people liked the movie, and the function should return `0.5`.\n",
    "\n",
    "Part of the function has already been completed for you.  You need only use `list_liked` to calculate `percentage_liked`."
   ]
  },
  {
   "cell_type": "code",
   "execution_count": 12,
   "id": "d2d3d84c",
   "metadata": {
    "execution": {
     "iopub.execute_input": "2022-09-18T20:47:49.082036Z",
     "iopub.status.busy": "2022-09-18T20:47:49.081585Z",
     "iopub.status.idle": "2022-09-18T20:47:49.091915Z",
     "shell.execute_reply": "2022-09-18T20:47:49.090736Z"
    },
    "papermill": {
     "duration": 0.021909,
     "end_time": "2022-09-18T20:47:49.094525",
     "exception": false,
     "start_time": "2022-09-18T20:47:49.072616",
     "status": "completed"
    },
    "tags": []
   },
   "outputs": [
    {
     "data": {
      "application/javascript": [
       "parent.postMessage({\"jupyterEvent\": \"custom.exercise_interaction\", \"data\": {\"outcomeType\": 1, \"valueTowardsCompletion\": 0.2, \"interactionType\": 1, \"questionType\": 2, \"questionId\": \"4_PercentageLiked\", \"learnToolsVersion\": \"0.3.4\", \"failureMessage\": \"\", \"exceptionClass\": \"\", \"trace\": \"\"}}, \"*\")"
      ],
      "text/plain": [
       "<IPython.core.display.Javascript object>"
      ]
     },
     "metadata": {},
     "output_type": "display_data"
    },
    {
     "data": {
      "text/markdown": [
       "<span style=\"color:#33cc33\">Correct</span>"
      ],
      "text/plain": [
       "Correct"
      ]
     },
     "metadata": {},
     "output_type": "display_data"
    }
   ],
   "source": [
    "\n",
    "def percentage_liked(ratings):\n",
    "    list_liked = [i>=4 for i in ratings]\n",
    "    # TODO: Complete the function\n",
    "    percentage_liked = sum(list_liked) /len(ratings)\n",
    "    return percentage_liked\n",
    "\n",
    "# Do not change: should return 0.5\n",
    "percentage_liked([1, 2, 3, 4, 5, 4, 5, 1])\n",
    "\n",
    "# Do not change: Check your answer\n",
    "q4.check()"
   ]
  },
  {
   "cell_type": "code",
   "execution_count": 13,
   "id": "ada12c82",
   "metadata": {
    "execution": {
     "iopub.execute_input": "2022-09-18T20:47:49.113215Z",
     "iopub.status.busy": "2022-09-18T20:47:49.112777Z",
     "iopub.status.idle": "2022-09-18T20:47:49.117618Z",
     "shell.execute_reply": "2022-09-18T20:47:49.116367Z"
    },
    "papermill": {
     "duration": 0.016949,
     "end_time": "2022-09-18T20:47:49.120068",
     "exception": false,
     "start_time": "2022-09-18T20:47:49.103119",
     "status": "completed"
    },
    "tags": []
   },
   "outputs": [],
   "source": [
    "# Uncomment to see a hint\n",
    "#q4.hint()\n",
    "\n",
    "# Uncomment to see the solution\n",
    "#q4.solution()"
   ]
  },
  {
   "cell_type": "markdown",
   "id": "0902b1f6",
   "metadata": {
    "papermill": {
     "duration": 0.007777,
     "end_time": "2022-09-18T20:47:49.136017",
     "exception": false,
     "start_time": "2022-09-18T20:47:49.128240",
     "status": "completed"
    },
    "tags": []
   },
   "source": [
    "# 🌶️ Question 5\n",
    " \n",
    "Say you're doing analytics for a website.  You need to write a function that returns the percentage growth in the total number of users relative to a specified number of years ago.\n",
    "\n",
    "Your function `percentage_growth()` should take two arguments as input:\n",
    "- `num_users` = Python list with the total number of users each year.  So `num_users[0]` is the total number of users in the first year, `num_users[1]` is the total number of users in the second year, and so on.  The final entry in the list gives the total number of users in the most recently completed year.\n",
    "- `yrs_ago` = number of years to go back in time when calculating the growth percentage\n",
    "\n",
    "For instance, say `num_users = [920344, 1043553, 1204334, 1458996, 1503323, 1593432, 1623463, 1843064, 1930992, 2001078]`.\n",
    "- if `yrs_ago = 1`, we want the function to return a value of about `0.036`. This corresponds to a percentage growth of approximately 3.6%, calculated as (2001078 - 1930992)/1930992.\n",
    "- if `years_ago = 7`, we would want to return approximately `0.66`.  This corresponds to a percentage growth of approximately 66%, calculated as (2001078 - 1204334)/1204334.\n",
    "\n",
    "Your coworker sent you a draft of a function, but it doesn't seem to be doing the correct calculation.  Can you figure out what has gone wrong and make the needed changes?"
   ]
  },
  {
   "cell_type": "code",
   "execution_count": 14,
   "id": "61dd0f6f",
   "metadata": {
    "execution": {
     "iopub.execute_input": "2022-09-18T20:47:49.153652Z",
     "iopub.status.busy": "2022-09-18T20:47:49.153227Z",
     "iopub.status.idle": "2022-09-18T20:47:49.166150Z",
     "shell.execute_reply": "2022-09-18T20:47:49.165043Z"
    },
    "papermill": {
     "duration": 0.024378,
     "end_time": "2022-09-18T20:47:49.168388",
     "exception": false,
     "start_time": "2022-09-18T20:47:49.144010",
     "status": "completed"
    },
    "tags": []
   },
   "outputs": [
    {
     "name": "stdout",
     "output_type": "stream",
     "text": [
      "0.03629533421163837\n",
      "0.6615639847417742\n"
     ]
    },
    {
     "data": {
      "application/javascript": [
       "parent.postMessage({\"jupyterEvent\": \"custom.exercise_interaction\", \"data\": {\"outcomeType\": 1, \"valueTowardsCompletion\": 0.2, \"interactionType\": 1, \"questionType\": 2, \"questionId\": \"5_WebsiteAnalytics\", \"learnToolsVersion\": \"0.3.4\", \"failureMessage\": \"\", \"exceptionClass\": \"\", \"trace\": \"\"}}, \"*\")"
      ],
      "text/plain": [
       "<IPython.core.display.Javascript object>"
      ]
     },
     "metadata": {},
     "output_type": "display_data"
    },
    {
     "data": {
      "text/markdown": [
       "<span style=\"color:#33cc33\">Correct</span>"
      ],
      "text/plain": [
       "Correct"
      ]
     },
     "metadata": {},
     "output_type": "display_data"
    }
   ],
   "source": [
    "# TODO: Edit the function\n",
    "def percentage_growth(num_users, yrs_ago):\n",
    "    growth = (num_users[-1] - num_users[len(num_users)-yrs_ago-1])/num_users[len(num_users)-yrs_ago-1]\n",
    "    return growth\n",
    "\n",
    "# Do not change: Variable for calculating some test examples\n",
    "num_users_test = [920344, 1043553, 1204334, 1458996, 1503323, 1593432, 1623463, 1843064, 1930992, 2001078]\n",
    "\n",
    "# Do not change: Should return .036\n",
    "print(percentage_growth(num_users_test, 1))\n",
    "\n",
    "# Do not change: Should return 0.66\n",
    "print(percentage_growth(num_users_test, 7))\n",
    "\n",
    "# Do not change: Check your answer\n",
    "q5.check()"
   ]
  },
  {
   "cell_type": "code",
   "execution_count": 15,
   "id": "aef16da0",
   "metadata": {
    "execution": {
     "iopub.execute_input": "2022-09-18T20:47:49.186843Z",
     "iopub.status.busy": "2022-09-18T20:47:49.186426Z",
     "iopub.status.idle": "2022-09-18T20:47:49.191129Z",
     "shell.execute_reply": "2022-09-18T20:47:49.189961Z"
    },
    "papermill": {
     "duration": 0.016943,
     "end_time": "2022-09-18T20:47:49.193579",
     "exception": false,
     "start_time": "2022-09-18T20:47:49.176636",
     "status": "completed"
    },
    "tags": []
   },
   "outputs": [],
   "source": [
    "# Uncomment to see a hint\n",
    "#q5.hint()\n",
    "\n",
    "# Uncomment to see the solution\n",
    "#q5.solution()"
   ]
  },
  {
   "cell_type": "markdown",
   "id": "7a6d76a9",
   "metadata": {
    "papermill": {
     "duration": 0.00796,
     "end_time": "2022-09-18T20:47:49.210138",
     "exception": false,
     "start_time": "2022-09-18T20:47:49.202178",
     "status": "completed"
    },
    "tags": []
   },
   "source": [
    "# Congratulations!\n",
    "\n",
    "Congratulations for finishing the Intro to Programming course!  You should be proud of your very first steps with learning programming.  As next steps, we recommend taking:\n",
    "- the **[Python course](http://www.kaggle.com/learn/python)**, and \n",
    "- the **[Intro to Machine Learning course](https://www.kaggle.com/learn/intro-to-machine-learning)**."
   ]
  },
  {
   "cell_type": "markdown",
   "id": "6bc3ba1c",
   "metadata": {
    "papermill": {
     "duration": 0.007816,
     "end_time": "2022-09-18T20:47:49.226248",
     "exception": false,
     "start_time": "2022-09-18T20:47:49.218432",
     "status": "completed"
    },
    "tags": []
   },
   "source": [
    "---\n",
    "\n",
    "\n",
    "\n",
    "\n",
    "*Have questions or comments? Visit the [course discussion forum](https://www.kaggle.com/learn/intro-to-programming/discussion) to chat with other learners.*"
   ]
  },
  {
   "cell_type": "code",
   "execution_count": null,
   "id": "8f783595",
   "metadata": {
    "papermill": {
     "duration": 0.007924,
     "end_time": "2022-09-18T20:47:49.242280",
     "exception": false,
     "start_time": "2022-09-18T20:47:49.234356",
     "status": "completed"
    },
    "tags": []
   },
   "outputs": [],
   "source": []
  },
  {
   "cell_type": "code",
   "execution_count": null,
   "id": "58a94044",
   "metadata": {
    "papermill": {
     "duration": 0.007961,
     "end_time": "2022-09-18T20:47:49.258341",
     "exception": false,
     "start_time": "2022-09-18T20:47:49.250380",
     "status": "completed"
    },
    "tags": []
   },
   "outputs": [],
   "source": []
  },
  {
   "cell_type": "code",
   "execution_count": null,
   "id": "72bd5cae",
   "metadata": {
    "papermill": {
     "duration": 0.009363,
     "end_time": "2022-09-18T20:47:49.276715",
     "exception": false,
     "start_time": "2022-09-18T20:47:49.267352",
     "status": "completed"
    },
    "tags": []
   },
   "outputs": [],
   "source": []
  }
 ],
 "metadata": {
  "kernelspec": {
   "display_name": "Python 3",
   "language": "python",
   "name": "python3"
  },
  "language_info": {
   "codemirror_mode": {
    "name": "ipython",
    "version": 3
   },
   "file_extension": ".py",
   "mimetype": "text/x-python",
   "name": "python",
   "nbconvert_exporter": "python",
   "pygments_lexer": "ipython3",
   "version": "3.7.12"
  },
  "papermill": {
   "default_parameters": {},
   "duration": 11.296185,
   "end_time": "2022-09-18T20:47:50.007593",
   "environment_variables": {},
   "exception": null,
   "input_path": "__notebook__.ipynb",
   "output_path": "__notebook__.ipynb",
   "parameters": {},
   "start_time": "2022-09-18T20:47:38.711408",
   "version": "2.3.4"
  }
 },
 "nbformat": 4,
 "nbformat_minor": 5
}

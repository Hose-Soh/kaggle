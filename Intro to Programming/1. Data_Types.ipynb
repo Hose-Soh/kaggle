{
 "cells": [
  {
   "cell_type": "markdown",
   "id": "a6174b97",
   "metadata": {
    "papermill": {
     "duration": 0.007766,
     "end_time": "2022-09-18T16:09:44.322944",
     "exception": false,
     "start_time": "2022-09-18T16:09:44.315178",
     "status": "completed"
    },
    "tags": []
   },
   "source": [
    "**This notebook is an exercise in the [Intro to Programming](https://www.kaggle.com/learn/intro-to-programming) course.  You can reference the tutorial at [this link](https://www.kaggle.com/alexisbcook/data-types).**\n",
    "\n",
    "---\n"
   ]
  },
  {
   "cell_type": "markdown",
   "id": "97b2fa05",
   "metadata": {
    "papermill": {
     "duration": 0.006736,
     "end_time": "2022-09-18T16:09:44.336675",
     "exception": false,
     "start_time": "2022-09-18T16:09:44.329939",
     "status": "completed"
    },
    "tags": []
   },
   "source": [
    "In the tutorial, you learned about four different data types: floats, integers, strings, and booleans.  In this exercise, you'll experiment with them.\n",
    "\n",
    "# Set up the notebook\n",
    "\n",
    "Run the next code cell without changes to set up the notebook."
   ]
  },
  {
   "cell_type": "code",
   "execution_count": 1,
   "id": "111de757",
   "metadata": {
    "execution": {
     "iopub.execute_input": "2022-09-18T16:09:44.352685Z",
     "iopub.status.busy": "2022-09-18T16:09:44.351717Z",
     "iopub.status.idle": "2022-09-18T16:09:44.415998Z",
     "shell.execute_reply": "2022-09-18T16:09:44.414602Z"
    },
    "papermill": {
     "duration": 0.075792,
     "end_time": "2022-09-18T16:09:44.419040",
     "exception": false,
     "start_time": "2022-09-18T16:09:44.343248",
     "status": "completed"
    },
    "tags": []
   },
   "outputs": [
    {
     "name": "stdout",
     "output_type": "stream",
     "text": [
      "Setup complete.\n"
     ]
    }
   ],
   "source": [
    "# Set up the exercise\n",
    "from learntools.core import binder\n",
    "binder.bind(globals())\n",
    "from learntools.intro_to_programming.ex3 import *\n",
    "print('Setup complete.')"
   ]
  },
  {
   "cell_type": "markdown",
   "id": "13b9437c",
   "metadata": {
    "papermill": {
     "duration": 0.006273,
     "end_time": "2022-09-18T16:09:44.433339",
     "exception": false,
     "start_time": "2022-09-18T16:09:44.427066",
     "status": "completed"
    },
    "tags": []
   },
   "source": [
    "# Question 1\n",
    "\n",
    "You have seen how to convert a float to an integer with the `int` function.  Try this out yourself by running the code cell below."
   ]
  },
  {
   "cell_type": "code",
   "execution_count": 2,
   "id": "d09e15b3",
   "metadata": {
    "execution": {
     "iopub.execute_input": "2022-09-18T16:09:44.448365Z",
     "iopub.status.busy": "2022-09-18T16:09:44.447968Z",
     "iopub.status.idle": "2022-09-18T16:09:44.454496Z",
     "shell.execute_reply": "2022-09-18T16:09:44.453078Z"
    },
    "papermill": {
     "duration": 0.017664,
     "end_time": "2022-09-18T16:09:44.457658",
     "exception": false,
     "start_time": "2022-09-18T16:09:44.439994",
     "status": "completed"
    },
    "tags": []
   },
   "outputs": [
    {
     "name": "stdout",
     "output_type": "stream",
     "text": [
      "1.0\n",
      "<class 'float'>\n",
      "1\n",
      "<class 'int'>\n"
     ]
    }
   ],
   "source": [
    "# Define a float\n",
    "y = 1.\n",
    "print(y)\n",
    "print(type(y))\n",
    "\n",
    "# Convert float to integer with the int function\n",
    "z = int(y)\n",
    "print(z)\n",
    "print(type(z))"
   ]
  },
  {
   "cell_type": "markdown",
   "id": "0ce33c71",
   "metadata": {
    "papermill": {
     "duration": 0.006684,
     "end_time": "2022-09-18T16:09:44.471145",
     "exception": false,
     "start_time": "2022-09-18T16:09:44.464461",
     "status": "completed"
    },
    "tags": []
   },
   "source": [
    "In this case, the float you are using has no numbers after the decimal.  \n",
    "- But what happens when you try to convert a float with a fractional part to an integer?  \n",
    "- How does the outcome of the `int` function change for positive and negative numbers?\n",
    "\n",
    "Use the next code cell to investigate and answer these questions.  Feel free to add or remove any lines of code -- it is your workspace!"
   ]
  },
  {
   "cell_type": "code",
   "execution_count": 3,
   "id": "1e5449d0",
   "metadata": {
    "execution": {
     "iopub.execute_input": "2022-09-18T16:09:44.485971Z",
     "iopub.status.busy": "2022-09-18T16:09:44.485576Z",
     "iopub.status.idle": "2022-09-18T16:09:44.492108Z",
     "shell.execute_reply": "2022-09-18T16:09:44.490665Z"
    },
    "papermill": {
     "duration": 0.016814,
     "end_time": "2022-09-18T16:09:44.494527",
     "exception": false,
     "start_time": "2022-09-18T16:09:44.477713",
     "status": "completed"
    },
    "tags": []
   },
   "outputs": [
    {
     "name": "stdout",
     "output_type": "stream",
     "text": [
      "1\n",
      "1\n",
      "-3\n",
      "-2\n"
     ]
    }
   ],
   "source": [
    "# Uncomment and run this code to get started!\n",
    "print(int(1.2321))\n",
    "print(int(1.747))\n",
    "print(int(-3.94535))\n",
    "print(int(-2.19774))"
   ]
  },
  {
   "cell_type": "markdown",
   "id": "f1f3663f",
   "metadata": {
    "papermill": {
     "duration": 0.00631,
     "end_time": "2022-09-18T16:09:44.507569",
     "exception": false,
     "start_time": "2022-09-18T16:09:44.501259",
     "status": "completed"
    },
    "tags": []
   },
   "source": [
    "Once you have an answer, run the code cell below to see the solution.  Viewing the solution will give you credit for answering the problem."
   ]
  },
  {
   "cell_type": "code",
   "execution_count": 4,
   "id": "3466d0a4",
   "metadata": {
    "execution": {
     "iopub.execute_input": "2022-09-18T16:09:44.523886Z",
     "iopub.status.busy": "2022-09-18T16:09:44.523441Z",
     "iopub.status.idle": "2022-09-18T16:09:44.538297Z",
     "shell.execute_reply": "2022-09-18T16:09:44.536739Z"
    },
    "papermill": {
     "duration": 0.029975,
     "end_time": "2022-09-18T16:09:44.544107",
     "exception": false,
     "start_time": "2022-09-18T16:09:44.514132",
     "status": "completed"
    },
    "tags": []
   },
   "outputs": [
    {
     "data": {
      "application/javascript": [
       "parent.postMessage({\"jupyterEvent\": \"custom.exercise_interaction\", \"data\": {\"outcomeType\": 1, \"valueTowardsCompletion\": 0.2, \"interactionType\": 1, \"questionType\": 4, \"questionId\": \"1_FloatToInt\", \"learnToolsVersion\": \"0.3.4\", \"failureMessage\": \"\", \"exceptionClass\": \"\", \"trace\": \"\"}}, \"*\")"
      ],
      "text/plain": [
       "<IPython.core.display.Javascript object>"
      ]
     },
     "metadata": {},
     "output_type": "display_data"
    },
    {
     "data": {
      "text/markdown": [
       "<span style=\"color:#33cc33\">Correct:</span> \n",
       "\n",
       "Negative floats are always rounded UP to the closest integer (for instance, both -1.1 and -1.9 are rounded up to -1). Positive floats are always rounded DOWN to the closest integer (for instance, 2.1 and 2.9 are rounded down to 2)."
      ],
      "text/plain": [
       "Correct: \n",
       "\n",
       "Negative floats are always rounded UP to the closest integer (for instance, both -1.1 and -1.9 are rounded up to -1). Positive floats are always rounded DOWN to the closest integer (for instance, 2.1 and 2.9 are rounded down to 2)."
      ]
     },
     "metadata": {},
     "output_type": "display_data"
    }
   ],
   "source": [
    "# Check your answer (Run this code cell to receive credit!)\n",
    "q1.check()"
   ]
  },
  {
   "cell_type": "markdown",
   "id": "550caa1f",
   "metadata": {
    "papermill": {
     "duration": 0.008881,
     "end_time": "2022-09-18T16:09:44.561934",
     "exception": false,
     "start_time": "2022-09-18T16:09:44.553053",
     "status": "completed"
    },
    "tags": []
   },
   "source": [
    "# Question 2\n",
    "\n",
    "In the tutorial, you learned about booleans (which can take a value of `True` or `False`), in addition to integers, floats, and strings.  For this question, your goal is to determine what happens when you multiply a boolean by any of these data types.  Specifically, \n",
    "- What happens when you multiply an integer or float by `True`?  What happens when you multiply them by `False`?  How does the answer change if the numbers are positive or negative?\n",
    "- What happens when you multiply a string by `True`?  By `False`?\n",
    "\n",
    "Use the next code cell for your investigation. "
   ]
  },
  {
   "cell_type": "code",
   "execution_count": 5,
   "id": "cb7028d8",
   "metadata": {
    "execution": {
     "iopub.execute_input": "2022-09-18T16:09:44.581595Z",
     "iopub.status.busy": "2022-09-18T16:09:44.581042Z",
     "iopub.status.idle": "2022-09-18T16:09:44.588888Z",
     "shell.execute_reply": "2022-09-18T16:09:44.587635Z"
    },
    "papermill": {
     "duration": 0.021628,
     "end_time": "2022-09-18T16:09:44.591923",
     "exception": false,
     "start_time": "2022-09-18T16:09:44.570295",
     "status": "completed"
    },
    "tags": []
   },
   "outputs": [
    {
     "name": "stdout",
     "output_type": "stream",
     "text": [
      "3\n",
      "-3.1\n",
      "<class 'str'>\n",
      "0\n"
     ]
    }
   ],
   "source": [
    "# Uncomment and run this code to get started!\n",
    "print(3 * True)\n",
    "print(-3.1 * True)\n",
    "print(type(\"abc\" * False))\n",
    "print(len(\"abc\" * False))"
   ]
  },
  {
   "cell_type": "markdown",
   "id": "75f75911",
   "metadata": {
    "papermill": {
     "duration": 0.00691,
     "end_time": "2022-09-18T16:09:44.607339",
     "exception": false,
     "start_time": "2022-09-18T16:09:44.600429",
     "status": "completed"
    },
    "tags": []
   },
   "source": [
    "Once you have an answer, run the code cell below to see the solution.  Viewing the solution will give you credit for answering the problem."
   ]
  },
  {
   "cell_type": "code",
   "execution_count": 6,
   "id": "14ce5a3b",
   "metadata": {
    "execution": {
     "iopub.execute_input": "2022-09-18T16:09:44.624413Z",
     "iopub.status.busy": "2022-09-18T16:09:44.623978Z",
     "iopub.status.idle": "2022-09-18T16:09:44.634696Z",
     "shell.execute_reply": "2022-09-18T16:09:44.633488Z"
    },
    "papermill": {
     "duration": 0.022506,
     "end_time": "2022-09-18T16:09:44.637105",
     "exception": false,
     "start_time": "2022-09-18T16:09:44.614599",
     "status": "completed"
    },
    "tags": []
   },
   "outputs": [
    {
     "data": {
      "application/javascript": [
       "parent.postMessage({\"jupyterEvent\": \"custom.exercise_interaction\", \"data\": {\"outcomeType\": 1, \"valueTowardsCompletion\": 0.2, \"interactionType\": 1, \"questionType\": 4, \"questionId\": \"2_MultiplyBooleans\", \"learnToolsVersion\": \"0.3.4\", \"failureMessage\": \"\", \"exceptionClass\": \"\", \"trace\": \"\"}}, \"*\")"
      ],
      "text/plain": [
       "<IPython.core.display.Javascript object>"
      ]
     },
     "metadata": {},
     "output_type": "display_data"
    },
    {
     "data": {
      "text/markdown": [
       "<span style=\"color:#33cc33\">Correct:</span> \n",
       "\n",
       "When you multiple an integer or float by a boolean with value `True`, it just returns that same integer or float (and is equivalent to multiplying by 1).  If you multiply an integer or float by a boolean with value `False`, it always returns 0.  This is true for both positive and negative numbers.  If you multiply a string by a boolean with value `True`, it just returns that same string.  And if you multiply a string by a boolean with value `False`, it returns an empty string (or a string with length zero)."
      ],
      "text/plain": [
       "Correct: \n",
       "\n",
       "When you multiple an integer or float by a boolean with value `True`, it just returns that same integer or float (and is equivalent to multiplying by 1).  If you multiply an integer or float by a boolean with value `False`, it always returns 0.  This is true for both positive and negative numbers.  If you multiply a string by a boolean with value `True`, it just returns that same string.  And if you multiply a string by a boolean with value `False`, it returns an empty string (or a string with length zero)."
      ]
     },
     "metadata": {},
     "output_type": "display_data"
    }
   ],
   "source": [
    "# Check your answer (Run this code cell to receive credit!)\n",
    "q2.check()"
   ]
  },
  {
   "cell_type": "markdown",
   "id": "8ee9a641",
   "metadata": {
    "papermill": {
     "duration": 0.008828,
     "end_time": "2022-09-18T16:09:44.654252",
     "exception": false,
     "start_time": "2022-09-18T16:09:44.645424",
     "status": "completed"
    },
    "tags": []
   },
   "source": [
    "# Question 3\n",
    "\n",
    "In this question, you will build off your work from the previous exercise to write a function that estimates the value of a house.\n",
    "\n",
    "Use the next code cell to create a function `get_expected_cost` that takes as input three variables:\n",
    "- `beds` - number of bedrooms (data type float)\n",
    "- `baths` - number of bathrooms (data type float)\n",
    "- `has_basement` - whether or not the house has a basement (data type boolean)\n",
    "\n",
    "It should return the expected cost of a house with those characteristics. Assume that:\n",
    "- the expected cost for a house with 0 bedrooms and 0 bathrooms, and no basement is 80000, \n",
    "- each bedroom adds 30000 to the expected cost,\n",
    "- each bathroom adds 10000 to the expected cost, and\n",
    "- a basement adds 40000 to the expected cost.\n",
    "\n",
    "For instance,\n",
    "- a house with 1 bedroom, 1 bathroom, and no basement has an expected cost of 80000 + 30000 + 10000 = 120000.  This value will be calculated with `get_expected_cost(1, 1, False)`.\n",
    "- a house with 2 bedrooms, 1 bathroom, and a basement has an expected cost of 80000 + 2*30000 + 10000 + 40000 = 190000.  This value will be calculated with `get_expected_cost(2, 1, True)`.\n",
    "\n",
    "Remember you can always get a hint by uncommenting `q3.hint()` in the code cell following the next!"
   ]
  },
  {
   "cell_type": "code",
   "execution_count": 7,
   "id": "8fd6f1dd",
   "metadata": {
    "execution": {
     "iopub.execute_input": "2022-09-18T16:09:44.671690Z",
     "iopub.status.busy": "2022-09-18T16:09:44.671242Z",
     "iopub.status.idle": "2022-09-18T16:09:44.681877Z",
     "shell.execute_reply": "2022-09-18T16:09:44.680711Z"
    },
    "papermill": {
     "duration": 0.022091,
     "end_time": "2022-09-18T16:09:44.684134",
     "exception": false,
     "start_time": "2022-09-18T16:09:44.662043",
     "status": "completed"
    },
    "tags": []
   },
   "outputs": [
    {
     "data": {
      "application/javascript": [
       "parent.postMessage({\"jupyterEvent\": \"custom.exercise_interaction\", \"data\": {\"outcomeType\": 1, \"valueTowardsCompletion\": 0.2, \"interactionType\": 1, \"questionType\": 2, \"questionId\": \"3_EstimateHouseValueBool\", \"learnToolsVersion\": \"0.3.4\", \"failureMessage\": \"\", \"exceptionClass\": \"\", \"trace\": \"\"}}, \"*\")"
      ],
      "text/plain": [
       "<IPython.core.display.Javascript object>"
      ]
     },
     "metadata": {},
     "output_type": "display_data"
    },
    {
     "data": {
      "text/markdown": [
       "<span style=\"color:#33cc33\">Correct</span>"
      ],
      "text/plain": [
       "Correct"
      ]
     },
     "metadata": {},
     "output_type": "display_data"
    }
   ],
   "source": [
    "# TODO: Complete the function\n",
    "def get_expected_cost(beds, baths, has_basement):\n",
    "    value = 80000 + (beds*30000) + (baths*10000) + (has_basement*40000)\n",
    "    return value\n",
    "\n",
    "# Check your answer \n",
    "q3.check()"
   ]
  },
  {
   "cell_type": "code",
   "execution_count": 8,
   "id": "40c690a5",
   "metadata": {
    "execution": {
     "iopub.execute_input": "2022-09-18T16:09:44.701217Z",
     "iopub.status.busy": "2022-09-18T16:09:44.700781Z",
     "iopub.status.idle": "2022-09-18T16:09:44.706364Z",
     "shell.execute_reply": "2022-09-18T16:09:44.705133Z"
    },
    "papermill": {
     "duration": 0.017064,
     "end_time": "2022-09-18T16:09:44.708867",
     "exception": false,
     "start_time": "2022-09-18T16:09:44.691803",
     "status": "completed"
    },
    "tags": []
   },
   "outputs": [],
   "source": [
    "# Uncomment to see a hint\n",
    "#q3.hint()\n",
    "\n",
    "# Uncomment to view the solution\n",
    "#q3.solution()"
   ]
  },
  {
   "cell_type": "markdown",
   "id": "2644d3cf",
   "metadata": {
    "papermill": {
     "duration": 0.007802,
     "end_time": "2022-09-18T16:09:44.724662",
     "exception": false,
     "start_time": "2022-09-18T16:09:44.716860",
     "status": "completed"
    },
    "tags": []
   },
   "source": [
    "# Question 4\n",
    "\n",
    "We'll continue our study of boolean arithmetic.  For this question, your task is to provide a description of what happpens when you add booleans. \n",
    "\n",
    "Use the next code cell for your investigation.  Feel free to add or remove any lines of code - use it as your workspace!"
   ]
  },
  {
   "cell_type": "code",
   "execution_count": 9,
   "id": "e1b50392",
   "metadata": {
    "execution": {
     "iopub.execute_input": "2022-09-18T16:09:44.741949Z",
     "iopub.status.busy": "2022-09-18T16:09:44.741548Z",
     "iopub.status.idle": "2022-09-18T16:09:44.747755Z",
     "shell.execute_reply": "2022-09-18T16:09:44.746608Z"
    },
    "papermill": {
     "duration": 0.018139,
     "end_time": "2022-09-18T16:09:44.750410",
     "exception": false,
     "start_time": "2022-09-18T16:09:44.732271",
     "status": "completed"
    },
    "tags": []
   },
   "outputs": [
    {
     "name": "stdout",
     "output_type": "stream",
     "text": [
      "0\n",
      "1\n",
      "1\n",
      "2\n",
      "3\n"
     ]
    }
   ],
   "source": [
    "print(False + False)\n",
    "print(True + False)\n",
    "print(False + True)\n",
    "print(True + True)\n",
    "print(False + True + True + True)"
   ]
  },
  {
   "cell_type": "markdown",
   "id": "405d366e",
   "metadata": {
    "papermill": {
     "duration": 0.007416,
     "end_time": "2022-09-18T16:09:44.765680",
     "exception": false,
     "start_time": "2022-09-18T16:09:44.758264",
     "status": "completed"
    },
    "tags": []
   },
   "source": [
    "Once you have an answer, run the code cell below to see the solution.  Viewing the solution will give you credit for answering the problem."
   ]
  },
  {
   "cell_type": "code",
   "execution_count": 10,
   "id": "cf4ea6d4",
   "metadata": {
    "execution": {
     "iopub.execute_input": "2022-09-18T16:09:44.783687Z",
     "iopub.status.busy": "2022-09-18T16:09:44.782991Z",
     "iopub.status.idle": "2022-09-18T16:09:44.792870Z",
     "shell.execute_reply": "2022-09-18T16:09:44.791768Z"
    },
    "papermill": {
     "duration": 0.021745,
     "end_time": "2022-09-18T16:09:44.795099",
     "exception": false,
     "start_time": "2022-09-18T16:09:44.773354",
     "status": "completed"
    },
    "tags": []
   },
   "outputs": [
    {
     "data": {
      "application/javascript": [
       "parent.postMessage({\"jupyterEvent\": \"custom.exercise_interaction\", \"data\": {\"outcomeType\": 1, \"valueTowardsCompletion\": 0.2, \"interactionType\": 1, \"questionType\": 4, \"questionId\": \"4_AddingBooleans\", \"learnToolsVersion\": \"0.3.4\", \"failureMessage\": \"\", \"exceptionClass\": \"\", \"trace\": \"\"}}, \"*\")"
      ],
      "text/plain": [
       "<IPython.core.display.Javascript object>"
      ]
     },
     "metadata": {},
     "output_type": "display_data"
    },
    {
     "data": {
      "text/markdown": [
       "<span style=\"color:#33cc33\">Correct:</span> \n",
       "\n",
       "When you add booleans, adding `False` is equivalent to adding 0, and adding `True` is equivalent to adding 1."
      ],
      "text/plain": [
       "Correct: \n",
       "\n",
       "When you add booleans, adding `False` is equivalent to adding 0, and adding `True` is equivalent to adding 1."
      ]
     },
     "metadata": {},
     "output_type": "display_data"
    }
   ],
   "source": [
    "# Check your answer (Run this code cell to receive credit!)\n",
    "q4.check()"
   ]
  },
  {
   "cell_type": "markdown",
   "id": "92bd05c2",
   "metadata": {
    "papermill": {
     "duration": 0.008802,
     "end_time": "2022-09-18T16:09:44.811837",
     "exception": false,
     "start_time": "2022-09-18T16:09:44.803035",
     "status": "completed"
    },
    "tags": []
   },
   "source": [
    "# 🌶️ Question 5\n",
    "\n",
    "You own an online shop where you sell rings with custom engravings.  You offer both gold plated and solid gold rings.\n",
    "- Gold plated rings have a base cost of \\\\$50, and you charge \\\\$7 per engraved unit.  \n",
    "- Solid gold rings have a base cost of \\\\$100, and you charge \\\\$10 per engraved unit.\n",
    "- Spaces and punctuation are counted as engraved units.\n",
    "\n",
    "Write a function `cost_of_project()` that takes two arguments:\n",
    "- `engraving` - a Python string with the text of the engraving\n",
    "- `solid_gold` - a Boolean that indicates whether the ring is solid gold\n",
    "\n",
    "It should return the cost of the project.  This question should be fairly challenging, and you may need a hint."
   ]
  },
  {
   "cell_type": "code",
   "execution_count": 11,
   "id": "9af6fb78",
   "metadata": {
    "execution": {
     "iopub.execute_input": "2022-09-18T16:09:44.831283Z",
     "iopub.status.busy": "2022-09-18T16:09:44.830641Z",
     "iopub.status.idle": "2022-09-18T16:09:44.841335Z",
     "shell.execute_reply": "2022-09-18T16:09:44.840288Z"
    },
    "papermill": {
     "duration": 0.023283,
     "end_time": "2022-09-18T16:09:44.843637",
     "exception": false,
     "start_time": "2022-09-18T16:09:44.820354",
     "status": "completed"
    },
    "tags": []
   },
   "outputs": [
    {
     "data": {
      "application/javascript": [
       "parent.postMessage({\"jupyterEvent\": \"custom.exercise_interaction\", \"data\": {\"outcomeType\": 1, \"valueTowardsCompletion\": 0.2, \"interactionType\": 1, \"questionType\": 2, \"questionId\": \"5_CustomEngravings\", \"learnToolsVersion\": \"0.3.4\", \"failureMessage\": \"\", \"exceptionClass\": \"\", \"trace\": \"\"}}, \"*\")"
      ],
      "text/plain": [
       "<IPython.core.display.Javascript object>"
      ]
     },
     "metadata": {},
     "output_type": "display_data"
    },
    {
     "data": {
      "text/markdown": [
       "<span style=\"color:#33cc33\">Correct</span>"
      ],
      "text/plain": [
       "Correct"
      ]
     },
     "metadata": {},
     "output_type": "display_data"
    }
   ],
   "source": [
    "def cost_of_project(engraving, solid_gold):\n",
    "    cost = (50+(solid_gold*50))+((7*len(engraving))+((3*len(engraving))*solid_gold))\n",
    "    return cost\n",
    "\n",
    "# Check your answer\n",
    "q5.check()"
   ]
  },
  {
   "cell_type": "code",
   "execution_count": 12,
   "id": "3eccdf26",
   "metadata": {
    "execution": {
     "iopub.execute_input": "2022-09-18T16:09:44.861819Z",
     "iopub.status.busy": "2022-09-18T16:09:44.861372Z",
     "iopub.status.idle": "2022-09-18T16:09:44.865919Z",
     "shell.execute_reply": "2022-09-18T16:09:44.864946Z"
    },
    "papermill": {
     "duration": 0.016432,
     "end_time": "2022-09-18T16:09:44.868189",
     "exception": false,
     "start_time": "2022-09-18T16:09:44.851757",
     "status": "completed"
    },
    "tags": []
   },
   "outputs": [],
   "source": [
    "# Uncomment to see a hint\n",
    "#q5.hint()\n",
    "\n",
    "# Uncomment to view the solution\n",
    "#q5.solution()"
   ]
  },
  {
   "cell_type": "markdown",
   "id": "80e87217",
   "metadata": {
    "papermill": {
     "duration": 0.007735,
     "end_time": "2022-09-18T16:09:44.884066",
     "exception": false,
     "start_time": "2022-09-18T16:09:44.876331",
     "status": "completed"
    },
    "tags": []
   },
   "source": [
    "Run the next code cell to calculate the cost of engraving `Charlie+Denver` on a solid gold ring."
   ]
  },
  {
   "cell_type": "code",
   "execution_count": 13,
   "id": "b0c719f2",
   "metadata": {
    "execution": {
     "iopub.execute_input": "2022-09-18T16:09:44.904735Z",
     "iopub.status.busy": "2022-09-18T16:09:44.903767Z",
     "iopub.status.idle": "2022-09-18T16:09:44.912432Z",
     "shell.execute_reply": "2022-09-18T16:09:44.910794Z"
    },
    "papermill": {
     "duration": 0.023146,
     "end_time": "2022-09-18T16:09:44.915220",
     "exception": false,
     "start_time": "2022-09-18T16:09:44.892074",
     "status": "completed"
    },
    "tags": []
   },
   "outputs": [
    {
     "name": "stdout",
     "output_type": "stream",
     "text": [
      "240\n"
     ]
    }
   ],
   "source": [
    "project_one = cost_of_project(\"Charlie+Denver\", True)\n",
    "print(project_one)"
   ]
  },
  {
   "cell_type": "markdown",
   "id": "42fb01eb",
   "metadata": {
    "papermill": {
     "duration": 0.009965,
     "end_time": "2022-09-18T16:09:44.934852",
     "exception": false,
     "start_time": "2022-09-18T16:09:44.924887",
     "status": "completed"
    },
    "tags": []
   },
   "source": [
    "Use the next code cell to calculate the cost of engraving `08/10/2000` on a gold plated ring."
   ]
  },
  {
   "cell_type": "code",
   "execution_count": 14,
   "id": "77c5bbb0",
   "metadata": {
    "execution": {
     "iopub.execute_input": "2022-09-18T16:09:44.956136Z",
     "iopub.status.busy": "2022-09-18T16:09:44.955304Z",
     "iopub.status.idle": "2022-09-18T16:09:44.961382Z",
     "shell.execute_reply": "2022-09-18T16:09:44.960506Z"
    },
    "papermill": {
     "duration": 0.019854,
     "end_time": "2022-09-18T16:09:44.964587",
     "exception": false,
     "start_time": "2022-09-18T16:09:44.944733",
     "status": "completed"
    },
    "tags": []
   },
   "outputs": [
    {
     "name": "stdout",
     "output_type": "stream",
     "text": [
      "120\n"
     ]
    }
   ],
   "source": [
    "project_two = cost_of_project(\"08/10/2000\", False)\n",
    "print(project_two)"
   ]
  },
  {
   "cell_type": "markdown",
   "id": "139e507a",
   "metadata": {
    "papermill": {
     "duration": 0.013239,
     "end_time": "2022-09-18T16:09:44.990393",
     "exception": false,
     "start_time": "2022-09-18T16:09:44.977154",
     "status": "completed"
    },
    "tags": []
   },
   "source": [
    "# Keep going\n",
    "\n",
    "Continue to the next lesson to **[learn about conditions and conditional statements](https://www.kaggle.com/alexisbcook/conditions-and-conditional-statements)**."
   ]
  },
  {
   "cell_type": "markdown",
   "id": "acaba562",
   "metadata": {
    "papermill": {
     "duration": 0.008821,
     "end_time": "2022-09-18T16:09:45.008258",
     "exception": false,
     "start_time": "2022-09-18T16:09:44.999437",
     "status": "completed"
    },
    "tags": []
   },
   "source": [
    "---\n",
    "\n",
    "\n",
    "\n",
    "\n",
    "*Have questions or comments? Visit the [course discussion forum](https://www.kaggle.com/learn/intro-to-programming/discussion) to chat with other learners.*"
   ]
  },
  {
   "cell_type": "code",
   "execution_count": null,
   "id": "3f821cf8",
   "metadata": {
    "papermill": {
     "duration": 0.008135,
     "end_time": "2022-09-18T16:09:45.025350",
     "exception": false,
     "start_time": "2022-09-18T16:09:45.017215",
     "status": "completed"
    },
    "tags": []
   },
   "outputs": [],
   "source": []
  }
 ],
 "metadata": {
  "kernelspec": {
   "display_name": "Python 3",
   "language": "python",
   "name": "python3"
  },
  "language_info": {
   "codemirror_mode": {
    "name": "ipython",
    "version": 3
   },
   "file_extension": ".py",
   "mimetype": "text/x-python",
   "name": "python",
   "nbconvert_exporter": "python",
   "pygments_lexer": "ipython3",
   "version": "3.7.12"
  },
  "papermill": {
   "default_parameters": {},
   "duration": 11.136992,
   "end_time": "2022-09-18T16:09:45.656549",
   "environment_variables": {},
   "exception": null,
   "input_path": "__notebook__.ipynb",
   "output_path": "__notebook__.ipynb",
   "parameters": {},
   "start_time": "2022-09-18T16:09:34.519557",
   "version": "2.3.4"
  }
 },
 "nbformat": 4,
 "nbformat_minor": 5
}

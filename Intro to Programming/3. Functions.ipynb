{
 "cells": [
  {
   "cell_type": "markdown",
   "id": "68928743",
   "metadata": {
    "papermill": {
     "duration": 0.007385,
     "end_time": "2022-09-18T16:13:21.515155",
     "exception": false,
     "start_time": "2022-09-18T16:13:21.507770",
     "status": "completed"
    },
    "tags": []
   },
   "source": [
    "**This notebook is an exercise in the [Intro to Programming](https://www.kaggle.com/learn/intro-to-programming) course.  You can reference the tutorial at [this link](https://www.kaggle.com/alexisbcook/functions).**\n",
    "\n",
    "---\n"
   ]
  },
  {
   "cell_type": "markdown",
   "id": "2e4e2562",
   "metadata": {
    "papermill": {
     "duration": 0.005809,
     "end_time": "2022-09-18T16:13:21.527188",
     "exception": false,
     "start_time": "2022-09-18T16:13:21.521379",
     "status": "completed"
    },
    "tags": []
   },
   "source": [
    "In the tutorial, you learned about functions. In this exercise, you'll write some of your own!\n",
    "\n",
    "# Set up the notebook\n",
    "\n",
    "Run the next code cell without changes to set up the notebook."
   ]
  },
  {
   "cell_type": "code",
   "execution_count": 1,
   "id": "cd10daf7",
   "metadata": {
    "execution": {
     "iopub.execute_input": "2022-09-18T16:13:21.541595Z",
     "iopub.status.busy": "2022-09-18T16:13:21.540822Z",
     "iopub.status.idle": "2022-09-18T16:13:21.596614Z",
     "shell.execute_reply": "2022-09-18T16:13:21.595383Z"
    },
    "papermill": {
     "duration": 0.066222,
     "end_time": "2022-09-18T16:13:21.599415",
     "exception": false,
     "start_time": "2022-09-18T16:13:21.533193",
     "status": "completed"
    },
    "tags": []
   },
   "outputs": [
    {
     "name": "stdout",
     "output_type": "stream",
     "text": [
      "Setup complete.\n"
     ]
    }
   ],
   "source": [
    "# Set up the exercise\n",
    "import math\n",
    "from learntools.core import binder\n",
    "binder.bind(globals())\n",
    "from learntools.intro_to_programming.ex2 import *\n",
    "print('Setup complete.')"
   ]
  },
  {
   "cell_type": "markdown",
   "id": "9b2912ca",
   "metadata": {
    "papermill": {
     "duration": 0.006207,
     "end_time": "2022-09-18T16:13:21.612207",
     "exception": false,
     "start_time": "2022-09-18T16:13:21.606000",
     "status": "completed"
    },
    "tags": []
   },
   "source": [
    "# Question 1\n",
    "\n",
    "In the [House Prices - Advanced Regression Techniques competition](https://www.kaggle.com/c/house-prices-advanced-regression-techniques/overview), you need to use information like the number of bedrooms and bathrooms to predict the price of a house.  Inspired by this competition, you'll write your own function to do this.\n",
    "\n",
    "In the next code cell, create a function `get_expected_cost()` that has two arguments:\n",
    "- `beds` - number of bedrooms \n",
    "- `baths` - number of bathrooms\n",
    "\n",
    "It should return the expected cost of a house with that number of bedrooms and bathrooms.  Assume that:\n",
    "- the expected cost for a house with 0 bedrooms and 0 bathrooms is `80000`.  \n",
    "- each bedroom adds `30000` to the expected cost\n",
    "- each bathroom adds `10000` to the expected cost.\n",
    "\n",
    "For instance, \n",
    "- a house with 1 bedroom and 1 bathroom has an expected cost of `120000`, and \n",
    "- a house with 2 bedrooms and 1 bathroom has an expected cost of `150000`."
   ]
  },
  {
   "cell_type": "code",
   "execution_count": 2,
   "id": "7462da4c",
   "metadata": {
    "execution": {
     "iopub.execute_input": "2022-09-18T16:13:21.626641Z",
     "iopub.status.busy": "2022-09-18T16:13:21.626171Z",
     "iopub.status.idle": "2022-09-18T16:13:21.637801Z",
     "shell.execute_reply": "2022-09-18T16:13:21.636677Z"
    },
    "papermill": {
     "duration": 0.02165,
     "end_time": "2022-09-18T16:13:21.640213",
     "exception": false,
     "start_time": "2022-09-18T16:13:21.618563",
     "status": "completed"
    },
    "tags": []
   },
   "outputs": [
    {
     "data": {
      "application/javascript": [
       "parent.postMessage({\"jupyterEvent\": \"custom.exercise_interaction\", \"data\": {\"outcomeType\": 1, \"valueTowardsCompletion\": 0.2, \"interactionType\": 1, \"questionType\": 2, \"questionId\": \"1_GetExpectedCost\", \"learnToolsVersion\": \"0.3.4\", \"failureMessage\": \"\", \"exceptionClass\": \"\", \"trace\": \"\"}}, \"*\")"
      ],
      "text/plain": [
       "<IPython.core.display.Javascript object>"
      ]
     },
     "metadata": {},
     "output_type": "display_data"
    },
    {
     "data": {
      "text/markdown": [
       "<span style=\"color:#33cc33\">Correct</span>"
      ],
      "text/plain": [
       "Correct"
      ]
     },
     "metadata": {},
     "output_type": "display_data"
    }
   ],
   "source": [
    "# TODO: Complete the function\n",
    "def get_expected_cost(beds, baths):\n",
    "    value = 80000 +(beds*30000 + baths*10000)\n",
    "    return value\n",
    "\n",
    "# Check your answer \n",
    "q1.check()"
   ]
  },
  {
   "cell_type": "code",
   "execution_count": 3,
   "id": "a7d2be9d",
   "metadata": {
    "execution": {
     "iopub.execute_input": "2022-09-18T16:13:21.655053Z",
     "iopub.status.busy": "2022-09-18T16:13:21.654591Z",
     "iopub.status.idle": "2022-09-18T16:13:21.659811Z",
     "shell.execute_reply": "2022-09-18T16:13:21.658594Z"
    },
    "papermill": {
     "duration": 0.015481,
     "end_time": "2022-09-18T16:13:21.662186",
     "exception": false,
     "start_time": "2022-09-18T16:13:21.646705",
     "status": "completed"
    },
    "tags": []
   },
   "outputs": [],
   "source": [
    "# Uncomment to see a hint\n",
    "#q1.hint()\n",
    "\n",
    "# Uncomment to view the solution\n",
    "#q1.solution()"
   ]
  },
  {
   "cell_type": "markdown",
   "id": "563abe7b",
   "metadata": {
    "papermill": {
     "duration": 0.006282,
     "end_time": "2022-09-18T16:13:21.675146",
     "exception": false,
     "start_time": "2022-09-18T16:13:21.668864",
     "status": "completed"
    },
    "tags": []
   },
   "source": [
    "# Question 2\n",
    "\n",
    "You are thinking about buying a home and want to get an idea of how much you will spend, based on the number of bedrooms and bathrooms.  You are trying to decide between four different options:\n",
    "- Option 1: house with two bedrooms and three bathrooms\n",
    "- Option 2: house with three bedrooms and two bathrooms\n",
    "- Option 3: house with three bedrooms and three bathrooms\n",
    "- Option 4: house with three bedrooms and four bathrooms\n",
    "\n",
    "Use the `get_expected_cost()` function you defined in question 1 to set `option_1`, `option_2`, `option_3`, and `option_4` to the expected cost of each option."
   ]
  },
  {
   "cell_type": "code",
   "execution_count": 4,
   "id": "91feab86",
   "metadata": {
    "execution": {
     "iopub.execute_input": "2022-09-18T16:13:21.690820Z",
     "iopub.status.busy": "2022-09-18T16:13:21.690075Z",
     "iopub.status.idle": "2022-09-18T16:13:21.703282Z",
     "shell.execute_reply": "2022-09-18T16:13:21.701767Z"
    },
    "papermill": {
     "duration": 0.024148,
     "end_time": "2022-09-18T16:13:21.705949",
     "exception": false,
     "start_time": "2022-09-18T16:13:21.681801",
     "status": "completed"
    },
    "tags": []
   },
   "outputs": [
    {
     "name": "stdout",
     "output_type": "stream",
     "text": [
      "170000\n",
      "190000\n",
      "200000\n",
      "210000\n"
     ]
    },
    {
     "data": {
      "application/javascript": [
       "parent.postMessage({\"jupyterEvent\": \"custom.exercise_interaction\", \"data\": {\"outcomeType\": 1, \"valueTowardsCompletion\": 0.2, \"interactionType\": 1, \"questionType\": 1, \"questionId\": \"2_RunGetExpectedCost\", \"learnToolsVersion\": \"0.3.4\", \"failureMessage\": \"\", \"exceptionClass\": \"\", \"trace\": \"\"}}, \"*\")"
      ],
      "text/plain": [
       "<IPython.core.display.Javascript object>"
      ]
     },
     "metadata": {},
     "output_type": "display_data"
    },
    {
     "data": {
      "text/markdown": [
       "<span style=\"color:#33cc33\">Correct</span>"
      ],
      "text/plain": [
       "Correct"
      ]
     },
     "metadata": {},
     "output_type": "display_data"
    }
   ],
   "source": [
    "# TODO: Use the get_expected_cost function to fill in each value\n",
    "option_one =  get_expected_cost(2, 3)\n",
    "option_two =  get_expected_cost(3, 2)\n",
    "option_three =  get_expected_cost(3, 3)\n",
    "option_four =  get_expected_cost(3, 4)\n",
    "\n",
    "print(option_one)\n",
    "print(option_two)\n",
    "print(option_three)\n",
    "print(option_four)\n",
    "\n",
    "# Check your answer\n",
    "q2.check()"
   ]
  },
  {
   "cell_type": "code",
   "execution_count": 5,
   "id": "05a44cfd",
   "metadata": {
    "execution": {
     "iopub.execute_input": "2022-09-18T16:13:21.721377Z",
     "iopub.status.busy": "2022-09-18T16:13:21.720927Z",
     "iopub.status.idle": "2022-09-18T16:13:21.725843Z",
     "shell.execute_reply": "2022-09-18T16:13:21.724529Z"
    },
    "papermill": {
     "duration": 0.015206,
     "end_time": "2022-09-18T16:13:21.728089",
     "exception": false,
     "start_time": "2022-09-18T16:13:21.712883",
     "status": "completed"
    },
    "tags": []
   },
   "outputs": [],
   "source": [
    "# Uncomment to see a hint\n",
    "#q2.hint()\n",
    "\n",
    "# Uncomment to view the solution\n",
    "#q2.solution()"
   ]
  },
  {
   "cell_type": "markdown",
   "id": "a05154a6",
   "metadata": {
    "papermill": {
     "duration": 0.006455,
     "end_time": "2022-09-18T16:13:21.741525",
     "exception": false,
     "start_time": "2022-09-18T16:13:21.735070",
     "status": "completed"
    },
    "tags": []
   },
   "source": [
    "# Question 3\n",
    "\n",
    "You're a home decorator, and you'd like to use Python to streamline some of your work.  Specifically, you're creating a tool that you intend to use to calculate the cost of painting a room.\n",
    "\n",
    "As a first step, define a function `get_cost()` that takes as input:\n",
    "- `sqft_walls` = total square feet of walls to be painted\n",
    "- `sqft_ceiling` = square feet of ceiling to be painted\n",
    "- `sqft_per_gallon` = number of square feet that you can cover with one gallon of paint\n",
    "- `cost_per_gallon` = cost (in dollars) of one gallon of paint\n",
    "\n",
    "It should return the cost (in dollars) of putting one coat of paint on all walls and the ceiling.  Assume you can buy the exact amount of paint that you need, so you can buy partial gallons (e.g., if you need 7.523 gallons, you can buy that exact amount, instead of needing to buy 8 gallons and waste some paint).  Do not round your answer."
   ]
  },
  {
   "cell_type": "code",
   "execution_count": 6,
   "id": "ff2f4ce0",
   "metadata": {
    "execution": {
     "iopub.execute_input": "2022-09-18T16:13:21.757378Z",
     "iopub.status.busy": "2022-09-18T16:13:21.756654Z",
     "iopub.status.idle": "2022-09-18T16:13:21.765756Z",
     "shell.execute_reply": "2022-09-18T16:13:21.764713Z"
    },
    "papermill": {
     "duration": 0.019987,
     "end_time": "2022-09-18T16:13:21.768199",
     "exception": false,
     "start_time": "2022-09-18T16:13:21.748212",
     "status": "completed"
    },
    "tags": []
   },
   "outputs": [
    {
     "data": {
      "application/javascript": [
       "parent.postMessage({\"jupyterEvent\": \"custom.exercise_interaction\", \"data\": {\"outcomeType\": 1, \"valueTowardsCompletion\": 0.2, \"interactionType\": 1, \"questionType\": 2, \"questionId\": \"3_GetCostPaint\", \"learnToolsVersion\": \"0.3.4\", \"failureMessage\": \"\", \"exceptionClass\": \"\", \"trace\": \"\"}}, \"*\")"
      ],
      "text/plain": [
       "<IPython.core.display.Javascript object>"
      ]
     },
     "metadata": {},
     "output_type": "display_data"
    },
    {
     "data": {
      "text/markdown": [
       "<span style=\"color:#33cc33\">Correct</span>"
      ],
      "text/plain": [
       "Correct"
      ]
     },
     "metadata": {},
     "output_type": "display_data"
    }
   ],
   "source": [
    "# TODO: Finish defining the function\n",
    "def get_cost(sqft_walls, sqft_ceiling, sqft_per_gallon, cost_per_gallon):\n",
    "    cost = ((sqft_walls+sqft_ceiling) / sqft_per_gallon) * cost_per_gallon\n",
    "    return cost\n",
    "\n",
    "# Check your answer\n",
    "q3.check()"
   ]
  },
  {
   "cell_type": "code",
   "execution_count": 7,
   "id": "4113e5ac",
   "metadata": {
    "execution": {
     "iopub.execute_input": "2022-09-18T16:13:21.787270Z",
     "iopub.status.busy": "2022-09-18T16:13:21.786819Z",
     "iopub.status.idle": "2022-09-18T16:13:21.791908Z",
     "shell.execute_reply": "2022-09-18T16:13:21.790591Z"
    },
    "papermill": {
     "duration": 0.017988,
     "end_time": "2022-09-18T16:13:21.794546",
     "exception": false,
     "start_time": "2022-09-18T16:13:21.776558",
     "status": "completed"
    },
    "tags": []
   },
   "outputs": [],
   "source": [
    "# Uncomment to see a hint\n",
    "#q3.hint()\n",
    "\n",
    "# Uncomment to view the solution\n",
    "#q3.solution()"
   ]
  },
  {
   "cell_type": "markdown",
   "id": "05776acd",
   "metadata": {
    "papermill": {
     "duration": 0.006968,
     "end_time": "2022-09-18T16:13:21.808664",
     "exception": false,
     "start_time": "2022-09-18T16:13:21.801696",
     "status": "completed"
    },
    "tags": []
   },
   "source": [
    "# Question 4\n",
    "\n",
    "Use the `get_cost()` function you defined in Question 3 to calculate the cost of applying one coat of paint to a room with:\n",
    "- 432 square feet of walls, and\n",
    "- 144 square feet of ceiling.\n",
    "\n",
    "Assume that one gallon of paint covers 400 square feet and costs $15.  As in Question 3, assume you can buy partial gallons of paint.  Do not round your answer."
   ]
  },
  {
   "cell_type": "code",
   "execution_count": 8,
   "id": "aae8a517",
   "metadata": {
    "execution": {
     "iopub.execute_input": "2022-09-18T16:13:21.825321Z",
     "iopub.status.busy": "2022-09-18T16:13:21.824456Z",
     "iopub.status.idle": "2022-09-18T16:13:21.834594Z",
     "shell.execute_reply": "2022-09-18T16:13:21.833687Z"
    },
    "papermill": {
     "duration": 0.021161,
     "end_time": "2022-09-18T16:13:21.837039",
     "exception": false,
     "start_time": "2022-09-18T16:13:21.815878",
     "status": "completed"
    },
    "tags": []
   },
   "outputs": [
    {
     "data": {
      "application/javascript": [
       "parent.postMessage({\"jupyterEvent\": \"custom.exercise_interaction\", \"data\": {\"outcomeType\": 1, \"valueTowardsCompletion\": 0.2, \"interactionType\": 1, \"questionType\": 1, \"questionId\": \"4_GetCostPaintExample\", \"learnToolsVersion\": \"0.3.4\", \"failureMessage\": \"\", \"exceptionClass\": \"\", \"trace\": \"\"}}, \"*\")"
      ],
      "text/plain": [
       "<IPython.core.display.Javascript object>"
      ]
     },
     "metadata": {},
     "output_type": "display_data"
    },
    {
     "data": {
      "text/markdown": [
       "<span style=\"color:#33cc33\">Correct</span>"
      ],
      "text/plain": [
       "Correct"
      ]
     },
     "metadata": {},
     "output_type": "display_data"
    }
   ],
   "source": [
    "# TODO: Set the project_cost variable to the cost of the project\n",
    "project_cost = get_cost(432, 144 ,400, 15)\n",
    "\n",
    "# Check your answer\n",
    "q4.check()"
   ]
  },
  {
   "cell_type": "code",
   "execution_count": 9,
   "id": "82b0fb78",
   "metadata": {
    "execution": {
     "iopub.execute_input": "2022-09-18T16:13:21.853934Z",
     "iopub.status.busy": "2022-09-18T16:13:21.853047Z",
     "iopub.status.idle": "2022-09-18T16:13:21.858040Z",
     "shell.execute_reply": "2022-09-18T16:13:21.857188Z"
    },
    "papermill": {
     "duration": 0.016157,
     "end_time": "2022-09-18T16:13:21.860428",
     "exception": false,
     "start_time": "2022-09-18T16:13:21.844271",
     "status": "completed"
    },
    "tags": []
   },
   "outputs": [],
   "source": [
    "# Uncomment to see a hint\n",
    "#q4.hint()\n",
    "\n",
    "# Uncomment to view the solution\n",
    "#q4.solution()"
   ]
  },
  {
   "cell_type": "markdown",
   "id": "7b5d1840",
   "metadata": {
    "papermill": {
     "duration": 0.007019,
     "end_time": "2022-09-18T16:13:21.874816",
     "exception": false,
     "start_time": "2022-09-18T16:13:21.867797",
     "status": "completed"
    },
    "tags": []
   },
   "source": [
    "# 🌶️ Question 5\n",
    "\n",
    "Now say you can no longer buy fractions of a gallon.  (For instance, if you need 4.3 gallons to do a project, then you have to buy 5 gallons of paint.)\n",
    "\n",
    "With this new scenario, you will create a new function `get_actual_cost` that uses the same inputs and calculates the cost of your project.\n",
    "\n",
    "One function that you'll need to use to do this is `math.ceil()`.  We demonstrate usage of this function in the code cell below.  It takes as a number as input and rounds the number up to the nearest integer.  \n",
    "\n",
    "Run the next code cell to test this function for yourself.  Feel free to change the value of `test_value` and make sure `math.ceil()` returns the number you expect."
   ]
  },
  {
   "cell_type": "code",
   "execution_count": 10,
   "id": "38c96f21",
   "metadata": {
    "execution": {
     "iopub.execute_input": "2022-09-18T16:13:21.892045Z",
     "iopub.status.busy": "2022-09-18T16:13:21.891142Z",
     "iopub.status.idle": "2022-09-18T16:13:21.899061Z",
     "shell.execute_reply": "2022-09-18T16:13:21.897697Z"
    },
    "papermill": {
     "duration": 0.019619,
     "end_time": "2022-09-18T16:13:21.901835",
     "exception": false,
     "start_time": "2022-09-18T16:13:21.882216",
     "status": "completed"
    },
    "tags": []
   },
   "outputs": [
    {
     "name": "stdout",
     "output_type": "stream",
     "text": [
      "3\n"
     ]
    }
   ],
   "source": [
    "test_value = 2.17\n",
    "\n",
    "rounded_value = math.ceil(test_value)\n",
    "print(rounded_value)"
   ]
  },
  {
   "cell_type": "markdown",
   "id": "4cb3f239",
   "metadata": {
    "papermill": {
     "duration": 0.007164,
     "end_time": "2022-09-18T16:13:21.916726",
     "exception": false,
     "start_time": "2022-09-18T16:13:21.909562",
     "status": "completed"
    },
    "tags": []
   },
   "source": [
    "Use the next code cell to define the function `get_actual_cost()`.  You'll need to use the `math.ceil()` function to do this.\n",
    "\n",
    "When answering this question, note that it's completely valid to define a function that makes use of another function.  For instance, we can define a function `round_up_and_divide_by_three` that makes use of the `math.ceil` function:\n",
    "```\n",
    "def round_up_and_divide_by_three(num):\n",
    "    new_value = math.ceil(num)\n",
    "    final_value = new_value / 3\n",
    "    return final_value\n",
    "```"
   ]
  },
  {
   "cell_type": "code",
   "execution_count": 11,
   "id": "d3391681",
   "metadata": {
    "execution": {
     "iopub.execute_input": "2022-09-18T16:13:21.934065Z",
     "iopub.status.busy": "2022-09-18T16:13:21.933585Z",
     "iopub.status.idle": "2022-09-18T16:13:21.944533Z",
     "shell.execute_reply": "2022-09-18T16:13:21.943543Z"
    },
    "papermill": {
     "duration": 0.022613,
     "end_time": "2022-09-18T16:13:21.946834",
     "exception": false,
     "start_time": "2022-09-18T16:13:21.924221",
     "status": "completed"
    },
    "tags": []
   },
   "outputs": [
    {
     "data": {
      "application/javascript": [
       "parent.postMessage({\"jupyterEvent\": \"custom.exercise_interaction\", \"data\": {\"outcomeType\": 1, \"valueTowardsCompletion\": 0.2, \"interactionType\": 1, \"questionType\": 2, \"questionId\": \"5_NoMoreFractions\", \"learnToolsVersion\": \"0.3.4\", \"failureMessage\": \"\", \"exceptionClass\": \"\", \"trace\": \"\"}}, \"*\")"
      ],
      "text/plain": [
       "<IPython.core.display.Javascript object>"
      ]
     },
     "metadata": {},
     "output_type": "display_data"
    },
    {
     "data": {
      "text/markdown": [
       "<span style=\"color:#33cc33\">Correct</span>"
      ],
      "text/plain": [
       "Correct"
      ]
     },
     "metadata": {},
     "output_type": "display_data"
    }
   ],
   "source": [
    "def get_actual_cost(sqft_walls, sqft_ceiling, sqft_per_gallon, cost_per_gallon):\n",
    "    cost = math.ceil(((sqft_walls+sqft_ceiling) / sqft_per_gallon)) * cost_per_gallon\n",
    "    return cost\n",
    "\n",
    "# Check your answer\n",
    "q5.check()"
   ]
  },
  {
   "cell_type": "code",
   "execution_count": 12,
   "id": "fa1a41f7",
   "metadata": {
    "execution": {
     "iopub.execute_input": "2022-09-18T16:13:21.964759Z",
     "iopub.status.busy": "2022-09-18T16:13:21.964035Z",
     "iopub.status.idle": "2022-09-18T16:13:21.968948Z",
     "shell.execute_reply": "2022-09-18T16:13:21.968023Z"
    },
    "papermill": {
     "duration": 0.016677,
     "end_time": "2022-09-18T16:13:21.971302",
     "exception": false,
     "start_time": "2022-09-18T16:13:21.954625",
     "status": "completed"
    },
    "tags": []
   },
   "outputs": [],
   "source": [
    "# Uncomment to see a hint\n",
    "#q5.hint()\n",
    "\n",
    "# Uncomment to view the solution\n",
    "#q5.solution()"
   ]
  },
  {
   "cell_type": "markdown",
   "id": "638d91e2",
   "metadata": {
    "papermill": {
     "duration": 0.007535,
     "end_time": "2022-09-18T16:13:21.986520",
     "exception": false,
     "start_time": "2022-09-18T16:13:21.978985",
     "status": "completed"
    },
    "tags": []
   },
   "source": [
    "Once your function is verified as correct, run the next code cell to calculate the updated cost of your project."
   ]
  },
  {
   "cell_type": "code",
   "execution_count": 13,
   "id": "21ad0d4b",
   "metadata": {
    "execution": {
     "iopub.execute_input": "2022-09-18T16:13:22.004235Z",
     "iopub.status.busy": "2022-09-18T16:13:22.003759Z",
     "iopub.status.idle": "2022-09-18T16:13:22.012032Z",
     "shell.execute_reply": "2022-09-18T16:13:22.010536Z"
    },
    "papermill": {
     "duration": 0.020234,
     "end_time": "2022-09-18T16:13:22.014670",
     "exception": false,
     "start_time": "2022-09-18T16:13:21.994436",
     "status": "completed"
    },
    "tags": []
   },
   "outputs": [
    {
     "data": {
      "text/plain": [
       "30"
      ]
     },
     "execution_count": 13,
     "metadata": {},
     "output_type": "execute_result"
    }
   ],
   "source": [
    "get_actual_cost(432, 144, 400, 15) "
   ]
  },
  {
   "cell_type": "markdown",
   "id": "c409a52b",
   "metadata": {
    "papermill": {
     "duration": 0.007635,
     "end_time": "2022-09-18T16:13:22.030153",
     "exception": false,
     "start_time": "2022-09-18T16:13:22.022518",
     "status": "completed"
    },
    "tags": []
   },
   "source": [
    "Say you're working with a slightly larger room.  Run the next code cell to calculate the cost of the project."
   ]
  },
  {
   "cell_type": "code",
   "execution_count": 14,
   "id": "14b09b3c",
   "metadata": {
    "execution": {
     "iopub.execute_input": "2022-09-18T16:13:22.048399Z",
     "iopub.status.busy": "2022-09-18T16:13:22.047170Z",
     "iopub.status.idle": "2022-09-18T16:13:22.054151Z",
     "shell.execute_reply": "2022-09-18T16:13:22.053232Z"
    },
    "papermill": {
     "duration": 0.018254,
     "end_time": "2022-09-18T16:13:22.056388",
     "exception": false,
     "start_time": "2022-09-18T16:13:22.038134",
     "status": "completed"
    },
    "tags": []
   },
   "outputs": [
    {
     "data": {
      "text/plain": [
       "45"
      ]
     },
     "execution_count": 14,
     "metadata": {},
     "output_type": "execute_result"
    }
   ],
   "source": [
    "get_actual_cost(594, 288, 400, 15) "
   ]
  },
  {
   "cell_type": "markdown",
   "id": "22505667",
   "metadata": {
    "papermill": {
     "duration": 0.00777,
     "end_time": "2022-09-18T16:13:22.072121",
     "exception": false,
     "start_time": "2022-09-18T16:13:22.064351",
     "status": "completed"
    },
    "tags": []
   },
   "source": [
    "# Keep going\n",
    "\n",
    "Continue to learn about **[data types](https://www.kaggle.com/alexisbcook/data-types)**."
   ]
  },
  {
   "cell_type": "markdown",
   "id": "ee328206",
   "metadata": {
    "papermill": {
     "duration": 0.007429,
     "end_time": "2022-09-18T16:13:22.087637",
     "exception": false,
     "start_time": "2022-09-18T16:13:22.080208",
     "status": "completed"
    },
    "tags": []
   },
   "source": [
    "---\n",
    "\n",
    "\n",
    "\n",
    "\n",
    "*Have questions or comments? Visit the [course discussion forum](https://www.kaggle.com/learn/intro-to-programming/discussion) to chat with other learners.*"
   ]
  },
  {
   "cell_type": "code",
   "execution_count": null,
   "id": "ecfb5773",
   "metadata": {
    "papermill": {
     "duration": 0.007675,
     "end_time": "2022-09-18T16:13:22.103209",
     "exception": false,
     "start_time": "2022-09-18T16:13:22.095534",
     "status": "completed"
    },
    "tags": []
   },
   "outputs": [],
   "source": []
  }
 ],
 "metadata": {
  "kernelspec": {
   "display_name": "Python 3",
   "language": "python",
   "name": "python3"
  },
  "language_info": {
   "codemirror_mode": {
    "name": "ipython",
    "version": 3
   },
   "file_extension": ".py",
   "mimetype": "text/x-python",
   "name": "python",
   "nbconvert_exporter": "python",
   "pygments_lexer": "ipython3",
   "version": "3.7.12"
  },
  "papermill": {
   "default_parameters": {},
   "duration": 10.739309,
   "end_time": "2022-09-18T16:13:22.833689",
   "environment_variables": {},
   "exception": null,
   "input_path": "__notebook__.ipynb",
   "output_path": "__notebook__.ipynb",
   "parameters": {},
   "start_time": "2022-09-18T16:13:12.094380",
   "version": "2.3.4"
  }
 },
 "nbformat": 4,
 "nbformat_minor": 5
}

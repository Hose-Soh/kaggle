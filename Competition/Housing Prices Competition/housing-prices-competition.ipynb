{
 "cells": [
  {
   "cell_type": "markdown",
   "id": "45c2a850",
   "metadata": {
    "papermill": {
     "duration": 0.01044,
     "end_time": "2023-02-16T13:32:28.252647",
     "exception": false,
     "start_time": "2023-02-16T13:32:28.242207",
     "status": "completed"
    },
    "tags": []
   },
   "source": [
    "Begin by running the code cell below to set up code checking and the filepaths for the dataset."
   ]
  },
  {
   "cell_type": "code",
   "execution_count": 1,
   "id": "74b5e704",
   "metadata": {
    "execution": {
     "iopub.execute_input": "2023-02-16T13:32:28.268476Z",
     "iopub.status.busy": "2023-02-16T13:32:28.267838Z",
     "iopub.status.idle": "2023-02-16T13:32:28.307349Z",
     "shell.execute_reply": "2023-02-16T13:32:28.306423Z"
    },
    "papermill": {
     "duration": 0.049923,
     "end_time": "2023-02-16T13:32:28.309417",
     "exception": false,
     "start_time": "2023-02-16T13:32:28.259494",
     "status": "completed"
    },
    "tags": []
   },
   "outputs": [],
   "source": [
    "# Set up code checking\n",
    "from learntools.core import binder\n",
    "binder.bind(globals())\n",
    "from learntools.machine_learning.ex7 import *\n",
    "\n",
    "# Set up filepaths\n",
    "import os\n",
    "if not os.path.exists(\"../input/train.csv\"):\n",
    "    os.symlink(\"../input/home-data-for-ml-course/train.csv\", \"../input/train.csv\")  \n",
    "    os.symlink(\"../input/home-data-for-ml-course/test.csv\", \"../input/test.csv\") "
   ]
  },
  {
   "cell_type": "code",
   "execution_count": 2,
   "id": "e27597c2",
   "metadata": {
    "execution": {
     "iopub.execute_input": "2023-02-16T13:32:28.324980Z",
     "iopub.status.busy": "2023-02-16T13:32:28.324648Z",
     "iopub.status.idle": "2023-02-16T13:32:29.466153Z",
     "shell.execute_reply": "2023-02-16T13:32:29.465415Z"
    },
    "papermill": {
     "duration": 1.151455,
     "end_time": "2023-02-16T13:32:29.468225",
     "exception": false,
     "start_time": "2023-02-16T13:32:28.316770",
     "status": "completed"
    },
    "tags": []
   },
   "outputs": [
    {
     "data": {
      "text/plain": [
       "Index(['MSSubClass', 'MSZoning', 'LotFrontage', 'LotArea', 'Street', 'Alley',\n",
       "       'LotShape', 'LandContour', 'Utilities', 'LotConfig', 'LandSlope',\n",
       "       'Neighborhood', 'Condition1', 'Condition2', 'BldgType', 'HouseStyle',\n",
       "       'OverallQual', 'OverallCond', 'YearBuilt', 'YearRemodAdd', 'RoofStyle',\n",
       "       'RoofMatl', 'Exterior1st', 'Exterior2nd', 'MasVnrType', 'MasVnrArea',\n",
       "       'ExterQual', 'ExterCond', 'Foundation', 'BsmtQual', 'BsmtCond',\n",
       "       'BsmtExposure', 'BsmtFinType1', 'BsmtFinSF1', 'BsmtFinType2',\n",
       "       'BsmtFinSF2', 'BsmtUnfSF', 'TotalBsmtSF', 'Heating', 'HeatingQC',\n",
       "       'CentralAir', 'Electrical', '1stFlrSF', '2ndFlrSF', 'LowQualFinSF',\n",
       "       'GrLivArea', 'BsmtFullBath', 'BsmtHalfBath', 'FullBath', 'HalfBath',\n",
       "       'BedroomAbvGr', 'KitchenAbvGr', 'KitchenQual', 'TotRmsAbvGrd',\n",
       "       'Functional', 'Fireplaces', 'FireplaceQu', 'GarageType', 'GarageYrBlt',\n",
       "       'GarageFinish', 'GarageCars', 'GarageArea', 'GarageQual', 'GarageCond',\n",
       "       'PavedDrive', 'WoodDeckSF', 'OpenPorchSF', 'EnclosedPorch', '3SsnPorch',\n",
       "       'ScreenPorch', 'PoolArea', 'PoolQC', 'Fence', 'MiscFeature', 'MiscVal',\n",
       "       'MoSold', 'YrSold', 'SaleType', 'SaleCondition'],\n",
       "      dtype='object')"
      ]
     },
     "execution_count": 2,
     "metadata": {},
     "output_type": "execute_result"
    }
   ],
   "source": [
    "# Import helpful libraries\n",
    "import pandas as pd\n",
    "from sklearn.ensemble import RandomForestRegressor\n",
    "from sklearn.metrics import mean_absolute_error\n",
    "from sklearn.model_selection import train_test_split\n",
    "import seaborn as sns\n",
    "import numpy as np\n",
    "\n",
    "# Load the data, and separate the target\n",
    "iowa_file_path = '../input/train.csv'\n",
    "home_data = pd.read_csv(iowa_file_path)\n",
    "y = home_data.SalePrice\n",
    "\n",
    "# Create X (After completing the exercise, you can return to modify this line!)\n",
    "\n",
    "X = home_data.drop(columns=['Id', 'SalePrice'])\n",
    "#X = X.drop(columns=['MSSubClass', 'LotFrontage', 'Street', 'Alley', 'Utilities', 'RoofMatl', 'Exterior1st', 'Exterior2nd', \n",
    "#'MasVnrType', 'Foundation', 'BsmtQual', 'BsmtCond', 'BsmtExposure', 'Heating', 'Electrical', 'LowQualFinSF', \n",
    "#'BsmtFullBath', 'BsmtHalfBath', 'GarageType', 'GarageYrBlt', 'GarageFinish', 'GarageCars', 'GarageQual', 'GarageCond', \n",
    "#'WoodDeckSF', 'OpenPorchSF', 'EnclosedPorch', '3SsnPorch', 'ScreenPorch', 'PoolArea', 'PoolQC', 'Fence', 'MiscFeature', \n",
    "#'MiscVal', 'MoSold', 'YrSold', 'SaleType'])\n",
    "\n",
    "\n",
    "\n",
    "#features = ['OverallQual', 'TotalBsmtSF', '1stFlrSF', 'GrLivArea', 'GarageArea']\n",
    "X.columns"
   ]
  },
  {
   "cell_type": "code",
   "execution_count": null,
   "id": "d6247d94",
   "metadata": {
    "papermill": {
     "duration": 0.006968,
     "end_time": "2023-02-16T13:32:29.483023",
     "exception": false,
     "start_time": "2023-02-16T13:32:29.476055",
     "status": "completed"
    },
    "tags": []
   },
   "outputs": [],
   "source": []
  },
  {
   "cell_type": "code",
   "execution_count": 3,
   "id": "3a22ab25",
   "metadata": {
    "execution": {
     "iopub.execute_input": "2023-02-16T13:32:29.498520Z",
     "iopub.status.busy": "2023-02-16T13:32:29.498228Z",
     "iopub.status.idle": "2023-02-16T13:32:29.542369Z",
     "shell.execute_reply": "2023-02-16T13:32:29.541392Z"
    },
    "papermill": {
     "duration": 0.054449,
     "end_time": "2023-02-16T13:32:29.544465",
     "exception": false,
     "start_time": "2023-02-16T13:32:29.490016",
     "status": "completed"
    },
    "tags": []
   },
   "outputs": [],
   "source": [
    "objects = list(X.select_dtypes(include=['object']).columns)\n",
    "X_std = pd.get_dummies(X, columns=objects)\n",
    "X.head()\n",
    "features = list(X.columns)"
   ]
  },
  {
   "cell_type": "code",
   "execution_count": 4,
   "id": "540d4df1",
   "metadata": {
    "execution": {
     "iopub.execute_input": "2023-02-16T13:32:29.560549Z",
     "iopub.status.busy": "2023-02-16T13:32:29.560041Z",
     "iopub.status.idle": "2023-02-16T13:32:29.564118Z",
     "shell.execute_reply": "2023-02-16T13:32:29.563300Z"
    },
    "papermill": {
     "duration": 0.014077,
     "end_time": "2023-02-16T13:32:29.566151",
     "exception": false,
     "start_time": "2023-02-16T13:32:29.552074",
     "status": "completed"
    },
    "tags": []
   },
   "outputs": [],
   "source": [
    "# Select columns corresponding to features, and preview the data\n",
    "#X = X.select_dtypes(exclude=['object'])\n",
    "#X.head()\n",
    "\n",
    "# Removing features which have std less than or equal to 1\n",
    "#std= X.describe().loc['std', :]\n",
    "#high_std_features = std[std>0.1].index\n",
    "#X_std = X #[high_std_features]\n",
    "\n",
    "#X.dtypes\n",
    "#features = list(X_std.columns)\n",
    "#features"
   ]
  },
  {
   "cell_type": "code",
   "execution_count": 5,
   "id": "a3db4c98",
   "metadata": {
    "execution": {
     "iopub.execute_input": "2023-02-16T13:32:29.580951Z",
     "iopub.status.busy": "2023-02-16T13:32:29.580421Z",
     "iopub.status.idle": "2023-02-16T13:32:29.595431Z",
     "shell.execute_reply": "2023-02-16T13:32:29.594628Z"
    },
    "papermill": {
     "duration": 0.024345,
     "end_time": "2023-02-16T13:32:29.597225",
     "exception": false,
     "start_time": "2023-02-16T13:32:29.572880",
     "status": "completed"
    },
    "tags": []
   },
   "outputs": [
    {
     "data": {
      "text/plain": [
       "MSSubClass                 0\n",
       "LotFrontage              259\n",
       "LotArea                    0\n",
       "OverallQual                0\n",
       "OverallCond                0\n",
       "                        ... \n",
       "SaleCondition_AdjLand      0\n",
       "SaleCondition_Alloca       0\n",
       "SaleCondition_Family       0\n",
       "SaleCondition_Normal       0\n",
       "SaleCondition_Partial      0\n",
       "Length: 288, dtype: int64"
      ]
     },
     "execution_count": 5,
     "metadata": {},
     "output_type": "execute_result"
    }
   ],
   "source": [
    "#print(X_std.head())\n",
    "X_std.dtypes\n",
    "X_std.isna().sum()"
   ]
  },
  {
   "cell_type": "code",
   "execution_count": 6,
   "id": "77dc9c43",
   "metadata": {
    "execution": {
     "iopub.execute_input": "2023-02-16T13:32:29.612450Z",
     "iopub.status.busy": "2023-02-16T13:32:29.611834Z",
     "iopub.status.idle": "2023-02-16T13:32:29.626969Z",
     "shell.execute_reply": "2023-02-16T13:32:29.625768Z"
    },
    "papermill": {
     "duration": 0.025122,
     "end_time": "2023-02-16T13:32:29.629096",
     "exception": false,
     "start_time": "2023-02-16T13:32:29.603974",
     "status": "completed"
    },
    "tags": []
   },
   "outputs": [],
   "source": [
    "#X_std = X_std.drop(columns=['Id', 'LotFrontage', 'GarageYrBlt'] )\n",
    "X_std = X_std.interpolate()\n",
    "X_std.isna().sum()\n",
    "\n",
    "features = list(X_std.columns)"
   ]
  },
  {
   "cell_type": "code",
   "execution_count": 7,
   "id": "42b541c0",
   "metadata": {
    "execution": {
     "iopub.execute_input": "2023-02-16T13:32:29.645446Z",
     "iopub.status.busy": "2023-02-16T13:32:29.644700Z",
     "iopub.status.idle": "2023-02-16T13:32:29.649240Z",
     "shell.execute_reply": "2023-02-16T13:32:29.648647Z"
    },
    "papermill": {
     "duration": 0.014562,
     "end_time": "2023-02-16T13:32:29.651129",
     "exception": false,
     "start_time": "2023-02-16T13:32:29.636567",
     "status": "completed"
    },
    "tags": []
   },
   "outputs": [],
   "source": [
    "import numpy as np\n",
    "import matplotlib.pyplot as plt\n",
    "\n",
    "#corr = X_std.corr().abs()\n",
    "#mask = np.triu(np.ones_like(corr, dtype=bool))\n",
    "#X_std_corr_tri = corr.mask(mask)\n",
    "\n",
    "# Drop the columns with a correlation of 1\n",
    "#to_drop = [c for c in X_std_corr_tri.columns if any(X_std_corr_tri[c] >= 1)]\n",
    "\n",
    "#print(to_drop)\n",
    "#X_std = X_std.drop(columns=to_drop)"
   ]
  },
  {
   "cell_type": "code",
   "execution_count": 8,
   "id": "2c8c1b7b",
   "metadata": {
    "execution": {
     "iopub.execute_input": "2023-02-16T13:32:29.665916Z",
     "iopub.status.busy": "2023-02-16T13:32:29.665547Z",
     "iopub.status.idle": "2023-02-16T13:32:29.669058Z",
     "shell.execute_reply": "2023-02-16T13:32:29.668133Z"
    },
    "papermill": {
     "duration": 0.012821,
     "end_time": "2023-02-16T13:32:29.670784",
     "exception": false,
     "start_time": "2023-02-16T13:32:29.657963",
     "status": "completed"
    },
    "tags": []
   },
   "outputs": [],
   "source": [
    "#high_variance_features = X_std.columns[X_std.var() > 500]\n",
    "#print(f\"Features with variance greater than 1000: {high_variance_features}\")"
   ]
  },
  {
   "cell_type": "code",
   "execution_count": 9,
   "id": "2d6d1aee",
   "metadata": {
    "execution": {
     "iopub.execute_input": "2023-02-16T13:32:29.685653Z",
     "iopub.status.busy": "2023-02-16T13:32:29.685226Z",
     "iopub.status.idle": "2023-02-16T13:32:29.688570Z",
     "shell.execute_reply": "2023-02-16T13:32:29.687962Z"
    },
    "papermill": {
     "duration": 0.012853,
     "end_time": "2023-02-16T13:32:29.690264",
     "exception": false,
     "start_time": "2023-02-16T13:32:29.677411",
     "status": "completed"
    },
    "tags": []
   },
   "outputs": [],
   "source": [
    "#for feature in high_variance_features:\n",
    " #   X_std[feature] = np.log(X_std[feature]+1)\n"
   ]
  },
  {
   "cell_type": "code",
   "execution_count": 10,
   "id": "94aaa0d1",
   "metadata": {
    "execution": {
     "iopub.execute_input": "2023-02-16T13:32:29.705473Z",
     "iopub.status.busy": "2023-02-16T13:32:29.705204Z",
     "iopub.status.idle": "2023-02-16T13:32:29.712869Z",
     "shell.execute_reply": "2023-02-16T13:32:29.712007Z"
    },
    "papermill": {
     "duration": 0.017511,
     "end_time": "2023-02-16T13:32:29.714718",
     "exception": false,
     "start_time": "2023-02-16T13:32:29.697207",
     "status": "completed"
    },
    "tags": []
   },
   "outputs": [],
   "source": [
    "to_remove = ['Exterior2nd_Other', 'Utilities_NoSeWa', 'Condition2_RRAe', 'Condition2_RRAn', 'Condition2_RRNn', 'HouseStyle_2.5Fin', \n",
    "             'RoofMatl_ClyTile', 'RoofMatl_Membran', 'RoofMatl_Metal', 'RoofMatl_Roll', 'Exterior1st_ImStucc', 'Exterior1st_Stone', \n",
    "             'Heating_Floor', 'Heating_OthW', 'Electrical_Mix', 'GarageQual_Ex', 'PoolQC_Fa', 'MiscFeature_TenC']\n",
    "\n",
    "features = [value for value in features if value not in to_remove]\n",
    "X_std = X_std[features]"
   ]
  },
  {
   "cell_type": "code",
   "execution_count": 11,
   "id": "55cb8600",
   "metadata": {
    "execution": {
     "iopub.execute_input": "2023-02-16T13:32:29.732141Z",
     "iopub.status.busy": "2023-02-16T13:32:29.731890Z",
     "iopub.status.idle": "2023-02-16T13:32:31.732277Z",
     "shell.execute_reply": "2023-02-16T13:32:31.731547Z"
    },
    "papermill": {
     "duration": 2.010334,
     "end_time": "2023-02-16T13:32:31.734424",
     "exception": false,
     "start_time": "2023-02-16T13:32:29.724090",
     "status": "completed"
    },
    "tags": []
   },
   "outputs": [
    {
     "data": {
      "text/plain": [
       "RFE(estimator=RandomForestRegressor(), n_features_to_select=288, step=50,\n",
       "    verbose=1)"
      ]
     },
     "execution_count": 11,
     "metadata": {},
     "output_type": "execute_result"
    }
   ],
   "source": [
    "# Split into validation and training data\n",
    "#t_X, v_X, t_y, v_y = train_test_split(X_std, y, test_size=0.3, random_state=1)\n",
    "# Split into validation and training data\n",
    "train_X, val_X, train_y, val_y = train_test_split(X_std, y, test_size=0.3, random_state=1)\n",
    "\n",
    "from sklearn.feature_selection import RFE\n",
    "#best score n_features_to_select=20\n",
    "rfe = RFE(estimator=RandomForestRegressor(), n_features_to_select=288, step=50, verbose=1)\n",
    "rfe.fit(train_X, train_y)\n"
   ]
  },
  {
   "cell_type": "code",
   "execution_count": 12,
   "id": "4bee11b8",
   "metadata": {
    "execution": {
     "iopub.execute_input": "2023-02-16T13:32:31.751007Z",
     "iopub.status.busy": "2023-02-16T13:32:31.750605Z",
     "iopub.status.idle": "2023-02-16T13:32:31.757198Z",
     "shell.execute_reply": "2023-02-16T13:32:31.756180Z"
    },
    "papermill": {
     "duration": 0.017263,
     "end_time": "2023-02-16T13:32:31.759231",
     "exception": false,
     "start_time": "2023-02-16T13:32:31.741968",
     "status": "completed"
    },
    "tags": []
   },
   "outputs": [],
   "source": [
    "feat = X_std.columns[rfe.support_]\n",
    "X_std = X_std[feat]\n",
    "X_std.head()\n",
    "features = list(X_std.columns)"
   ]
  },
  {
   "cell_type": "code",
   "execution_count": 13,
   "id": "4435f7ed",
   "metadata": {
    "execution": {
     "iopub.execute_input": "2023-02-16T13:32:31.775616Z",
     "iopub.status.busy": "2023-02-16T13:32:31.775277Z",
     "iopub.status.idle": "2023-02-16T13:32:31.779149Z",
     "shell.execute_reply": "2023-02-16T13:32:31.778172Z"
    },
    "papermill": {
     "duration": 0.014617,
     "end_time": "2023-02-16T13:32:31.781287",
     "exception": false,
     "start_time": "2023-02-16T13:32:31.766670",
     "status": "completed"
    },
    "tags": []
   },
   "outputs": [],
   "source": [
    "#X_std.dtypes\n",
    "#sns.pairplot(X_std)"
   ]
  },
  {
   "cell_type": "code",
   "execution_count": 14,
   "id": "77bc9f16",
   "metadata": {
    "execution": {
     "iopub.execute_input": "2023-02-16T13:32:31.798373Z",
     "iopub.status.busy": "2023-02-16T13:32:31.797870Z",
     "iopub.status.idle": "2023-02-16T13:32:31.815984Z",
     "shell.execute_reply": "2023-02-16T13:32:31.815364Z"
    },
    "papermill": {
     "duration": 0.028785,
     "end_time": "2023-02-16T13:32:31.817853",
     "exception": false,
     "start_time": "2023-02-16T13:32:31.789068",
     "status": "completed"
    },
    "tags": []
   },
   "outputs": [],
   "source": [
    "# Split into validation and training data\n",
    "#train_X, val_X, train_y, val_y = train_test_split(X_std, y, random_state=1)\n",
    "\n",
    "# Scaling Data\n",
    "\n",
    "from sklearn.preprocessing import StandardScaler\n",
    "\n",
    "scaler = StandardScaler()\n",
    "train_X_std = scaler.fit_transform(train_X)\n",
    "val_X_std = scaler.transform(val_X)\n",
    "\n"
   ]
  },
  {
   "cell_type": "code",
   "execution_count": 15,
   "id": "72f4d02e",
   "metadata": {
    "execution": {
     "iopub.execute_input": "2023-02-16T13:32:31.834492Z",
     "iopub.status.busy": "2023-02-16T13:32:31.834204Z",
     "iopub.status.idle": "2023-02-16T13:32:35.810306Z",
     "shell.execute_reply": "2023-02-16T13:32:35.809214Z"
    },
    "papermill": {
     "duration": 3.986948,
     "end_time": "2023-02-16T13:32:35.812498",
     "exception": false,
     "start_time": "2023-02-16T13:32:31.825550",
     "status": "completed"
    },
    "tags": []
   },
   "outputs": [
    {
     "name": "stdout",
     "output_type": "stream",
     "text": [
      "Validation MAE for Random Forest Model: 17,255\n"
     ]
    }
   ],
   "source": [
    "# Define a random forest model\n",
    "rf_model = RandomForestRegressor(n_estimators = 200, random_state=1)\n",
    "#rf_model = xgb.XGBRegressor(random_state=1)\n",
    "rf_model.fit(train_X_std, train_y)\n",
    "rf_val_predictions = rf_model.predict(val_X_std)\n",
    "rf_val_mae = mean_absolute_error(rf_val_predictions, val_y)\n",
    "\n",
    "print(\"Validation MAE for Random Forest Model: {:,.0f}\".format(rf_val_mae))\n",
    "\n"
   ]
  },
  {
   "cell_type": "markdown",
   "id": "bdda4db5",
   "metadata": {
    "papermill": {
     "duration": 0.006827,
     "end_time": "2023-02-16T13:32:35.826641",
     "exception": false,
     "start_time": "2023-02-16T13:32:35.819814",
     "status": "completed"
    },
    "tags": []
   },
   "source": [
    "# **Gradient Boosting MAE Score**"
   ]
  },
  {
   "cell_type": "code",
   "execution_count": 16,
   "id": "7e7b39df",
   "metadata": {
    "execution": {
     "iopub.execute_input": "2023-02-16T13:32:35.842296Z",
     "iopub.status.busy": "2023-02-16T13:32:35.841536Z",
     "iopub.status.idle": "2023-02-16T13:33:20.084080Z",
     "shell.execute_reply": "2023-02-16T13:33:20.083015Z"
    },
    "papermill": {
     "duration": 44.260334,
     "end_time": "2023-02-16T13:33:20.094132",
     "exception": false,
     "start_time": "2023-02-16T13:32:35.833798",
     "status": "completed"
    },
    "tags": []
   },
   "outputs": [
    {
     "name": "stdout",
     "output_type": "stream",
     "text": [
      "Validation MAE for Gradient Boosting Regression Model: 14,882\n",
      "{'learning_rate': 0.1, 'max_depth': 3, 'min_samples_split': 6, 'n_estimators': 200}\n"
     ]
    }
   ],
   "source": [
    "from sklearn.ensemble import GradientBoostingRegressor\n",
    "from sklearn.model_selection import GridSearchCV\n",
    "\n",
    "# Define the parameter grid for hyperparameter tuning\n",
    "param_grid = {'n_estimators': [200, 250],\n",
    "              'max_depth': [2, 3],\n",
    "              'min_samples_split': [4, 6],\n",
    "              'learning_rate': [0.1]}\n",
    "\n",
    "# Create a GridSearchCV object for Gradient Boosting Regression\n",
    "grid_search = GridSearchCV(GradientBoostingRegressor(), param_grid, cv=5)\n",
    "\n",
    "# Fit the GridSearchCV object to the training data\n",
    "grid_search.fit(train_X_std, train_y)\n",
    "\n",
    "# Get the best hyperparameters from the grid search\n",
    "best_n_estimators = grid_search.best_params_['n_estimators']\n",
    "best_max_depth = grid_search.best_params_['max_depth']\n",
    "best_min_samples_split = grid_search.best_params_['min_samples_split']\n",
    "best_learning_rate = grid_search.best_params_['learning_rate']\n",
    "\n",
    "# Train a new Gradient Boosting Regression model with the best hyperparameters\n",
    "gbr_model_best = GradientBoostingRegressor(n_estimators=best_n_estimators, max_depth=best_max_depth,\n",
    "                                            min_samples_split=best_min_samples_split, learning_rate=best_learning_rate, random_state=1)\n",
    "gbr_model_best.fit(train_X_std, train_y)\n",
    "\n",
    "# Predict the validation set using the best Gradient Boosting Regression model\n",
    "gbr_val_predictions = gbr_model_best.predict(val_X_std)\n",
    "gbr_val_mae = mean_absolute_error(gbr_val_predictions, val_y)\n",
    "\n",
    "print(\"Validation MAE for Gradient Boosting Regression Model: {:,.0f}\".format(gbr_val_mae))\n",
    "print(grid_search.best_params_)\n"
   ]
  },
  {
   "cell_type": "code",
   "execution_count": 17,
   "id": "1678dac2",
   "metadata": {
    "execution": {
     "iopub.execute_input": "2023-02-16T13:33:20.111902Z",
     "iopub.status.busy": "2023-02-16T13:33:20.111525Z",
     "iopub.status.idle": "2023-02-16T13:33:45.216198Z",
     "shell.execute_reply": "2023-02-16T13:33:45.214593Z"
    },
    "papermill": {
     "duration": 25.11656,
     "end_time": "2023-02-16T13:33:45.218613",
     "exception": false,
     "start_time": "2023-02-16T13:33:20.102053",
     "status": "completed"
    },
    "tags": []
   },
   "outputs": [
    {
     "name": "stdout",
     "output_type": "stream",
     "text": [
      "Validation MAE for XGBoost Regression Model: 15,605\n",
      "{'learning_rate': 0.1, 'max_depth': 4, 'min_child_weight': 1, 'n_estimators': 350}\n"
     ]
    }
   ],
   "source": [
    "from xgboost import XGBRegressor\n",
    "from sklearn.model_selection import GridSearchCV\n",
    "\n",
    "# Define the parameter grid for hyperparameter tuning\n",
    "param_grid = {\n",
    "    'n_estimators': [250, 350],\n",
    "    'max_depth': [4],\n",
    "    'min_child_weight': [1],\n",
    "    'learning_rate': [0.1]\n",
    "}\n",
    "\n",
    "\n",
    "# Create a GridSearchCV object for XGBoost Regression\n",
    "grid_search = GridSearchCV(XGBRegressor(), param_grid, cv=5)\n",
    "\n",
    "# Fit the GridSearchCV object to the training data\n",
    "grid_search.fit(train_X_std, train_y)\n",
    "\n",
    "# Get the best hyperparameters from the grid search\n",
    "best_n_estimators = grid_search.best_params_['n_estimators']\n",
    "best_max_depth = grid_search.best_params_['max_depth']\n",
    "best_min_child_weight = grid_search.best_params_['min_child_weight']\n",
    "best_learning_rate = grid_search.best_params_['learning_rate']\n",
    "\n",
    "# Train a new XGBoost Regression model with the best hyperparameters\n",
    "xgbr_model_best = XGBRegressor(n_estimators=best_n_estimators, max_depth=best_max_depth,\n",
    "                               min_child_weight=best_min_child_weight, learning_rate=best_learning_rate, random_state=1)\n",
    "xgbr_model_best.fit(train_X_std, train_y)\n",
    "\n",
    "# Predict the validation set using the best XGBoost Regression model\n",
    "xgbr_val_predictions = xgbr_model_best.predict(val_X_std)\n",
    "xgbr_val_mae = mean_absolute_error(xgbr_val_predictions, val_y)\n",
    "\n",
    "print(\"Validation MAE for XGBoost Regression Model: {:,.0f}\".format(xgbr_val_mae))\n",
    "print(grid_search.best_params_)\n"
   ]
  },
  {
   "cell_type": "code",
   "execution_count": 18,
   "id": "99b2c9c7",
   "metadata": {
    "execution": {
     "iopub.execute_input": "2023-02-16T13:33:45.237530Z",
     "iopub.status.busy": "2023-02-16T13:33:45.237176Z",
     "iopub.status.idle": "2023-02-16T13:33:48.832947Z",
     "shell.execute_reply": "2023-02-16T13:33:48.831702Z"
    },
    "papermill": {
     "duration": 3.607197,
     "end_time": "2023-02-16T13:33:48.835268",
     "exception": false,
     "start_time": "2023-02-16T13:33:45.228071",
     "status": "completed"
    },
    "tags": []
   },
   "outputs": [
    {
     "name": "stdout",
     "output_type": "stream",
     "text": [
      "Validation MAE for CatBoost Regression Model: 14,512\n"
     ]
    }
   ],
   "source": [
    "from catboost import CatBoostRegressor\n",
    "from sklearn.model_selection import GridSearchCV\n",
    "\n",
    "# Train a new CatBoost Regression model with the best hyperparameters\n",
    "cat_model_best = CatBoostRegressor(logging_level='Silent', random_state=1)\n",
    "cat_model_best.fit(train_X_std, train_y)\n",
    "\n",
    "# Predict the validation set using the best CatBoost Regression model\n",
    "cat_val_predictions = cat_model_best.predict(val_X_std)\n",
    "cat_val_mae = mean_absolute_error(cat_val_predictions, val_y)\n",
    "\n",
    "print(\"Validation MAE for CatBoost Regression Model: {:,.0f}\".format(cat_val_mae))\n",
    "\n"
   ]
  },
  {
   "cell_type": "code",
   "execution_count": 19,
   "id": "89b07140",
   "metadata": {
    "execution": {
     "iopub.execute_input": "2023-02-16T13:33:48.853394Z",
     "iopub.status.busy": "2023-02-16T13:33:48.853079Z",
     "iopub.status.idle": "2023-02-16T13:33:48.857096Z",
     "shell.execute_reply": "2023-02-16T13:33:48.856086Z"
    },
    "papermill": {
     "duration": 0.015639,
     "end_time": "2023-02-16T13:33:48.859077",
     "exception": false,
     "start_time": "2023-02-16T13:33:48.843438",
     "status": "completed"
    },
    "tags": []
   },
   "outputs": [],
   "source": [
    "# from sklearn.ensemble import StackingRegressor\n",
    "\n",
    "# stacking_model = StackingRegressor(estimators = [('Gradient', gbr_model_best),\n",
    "#                                                  ('Cat', cat_model_best)])\n",
    "\n",
    "# stacking_model.fit(X_train, y_train)\n",
    "# x_test_pred6 = stacking_model.predict(X_test)\n",
    "\n",
    "# print(\"Stacking Model MAE on Testing Data is:\",mean_absolute_error(y_test, x_test_pred6))"
   ]
  },
  {
   "cell_type": "code",
   "execution_count": 20,
   "id": "8c9fc968",
   "metadata": {
    "execution": {
     "iopub.execute_input": "2023-02-16T13:33:48.876312Z",
     "iopub.status.busy": "2023-02-16T13:33:48.875996Z",
     "iopub.status.idle": "2023-02-16T13:33:48.880763Z",
     "shell.execute_reply": "2023-02-16T13:33:48.879804Z"
    },
    "papermill": {
     "duration": 0.015883,
     "end_time": "2023-02-16T13:33:48.882740",
     "exception": false,
     "start_time": "2023-02-16T13:33:48.866857",
     "status": "completed"
    },
    "tags": []
   },
   "outputs": [],
   "source": [
    "#import xgboost as xgb\n",
    "\n",
    "# Split into validation and training data\n",
    "#train_X, val_X, train_y, val_y = train_test_split(X_std, y, test_size = 0.3, random_state=1)\n",
    "\n",
    "# Define a random forest model\n",
    "#rf_model = RandomForestRegressor(n_estimators= 60, random_state=1)\n",
    "#rf_model = xgb.XGBRegressor(random_state=1)\n",
    "#rf_model.fit(train_X, train_y)\n",
    "#rf_val_predictions = rf_model.predict(val_X)\n",
    "#rf_val_mae = mean_absolute_error(rf_val_predictions, val_y)\n",
    "\n",
    "#print(\"Validation MAE for Random Forest Model: {:,.0f}\".format(rf_val_mae))"
   ]
  },
  {
   "cell_type": "code",
   "execution_count": 21,
   "id": "d5a62971",
   "metadata": {
    "execution": {
     "iopub.execute_input": "2023-02-16T13:33:48.899506Z",
     "iopub.status.busy": "2023-02-16T13:33:48.899163Z",
     "iopub.status.idle": "2023-02-16T13:33:48.903470Z",
     "shell.execute_reply": "2023-02-16T13:33:48.902422Z"
    },
    "papermill": {
     "duration": 0.014791,
     "end_time": "2023-02-16T13:33:48.905395",
     "exception": false,
     "start_time": "2023-02-16T13:33:48.890604",
     "status": "completed"
    },
    "tags": []
   },
   "outputs": [],
   "source": [
    "#print(rf_model.feature_importances_)\n",
    "#ask2 = rf_model.feature_importances_ > 0.01\n",
    "\n",
    "#x_reduced = X_std.loc[:, mask2]\n",
    "#print(x_reduced.columns)"
   ]
  },
  {
   "cell_type": "markdown",
   "id": "716027c5",
   "metadata": {
    "papermill": {
     "duration": 0.007144,
     "end_time": "2023-02-16T13:33:48.920030",
     "exception": false,
     "start_time": "2023-02-16T13:33:48.912886",
     "status": "completed"
    },
    "tags": []
   },
   "source": [
    "The code cell above trains a Random Forest model on **`train_X`** and **`train_y`**.  \n",
    "\n",
    "Use the code cell below to build a Random Forest model and train it on all of **`X`** and **`y`**."
   ]
  },
  {
   "cell_type": "code",
   "execution_count": null,
   "id": "30d0c39f",
   "metadata": {
    "papermill": {
     "duration": 0.007631,
     "end_time": "2023-02-16T13:33:48.935418",
     "exception": false,
     "start_time": "2023-02-16T13:33:48.927787",
     "status": "completed"
    },
    "tags": []
   },
   "outputs": [],
   "source": []
  },
  {
   "cell_type": "code",
   "execution_count": 22,
   "id": "4e17a261",
   "metadata": {
    "execution": {
     "iopub.execute_input": "2023-02-16T13:33:48.951997Z",
     "iopub.status.busy": "2023-02-16T13:33:48.951628Z",
     "iopub.status.idle": "2023-02-16T13:33:52.468032Z",
     "shell.execute_reply": "2023-02-16T13:33:52.466994Z"
    },
    "papermill": {
     "duration": 3.527371,
     "end_time": "2023-02-16T13:33:52.470369",
     "exception": false,
     "start_time": "2023-02-16T13:33:48.942998",
     "status": "completed"
    },
    "tags": []
   },
   "outputs": [
    {
     "data": {
      "text/plain": [
       "<catboost.core.CatBoostRegressor at 0x7f68cea20610>"
      ]
     },
     "execution_count": 22,
     "metadata": {},
     "output_type": "execute_result"
    }
   ],
   "source": [
    "#rf_model_on_full_data = RandomForestRegressor(n_estimators= 60, random_state=1)\n",
    "model_on_full_data = CatBoostRegressor(logging_level='Silent', random_state=1)\n",
    "\n",
    "# fit rf_model_on_full_data on all data from the training data\n",
    "model_on_full_data.fit(X_std, y)"
   ]
  },
  {
   "cell_type": "code",
   "execution_count": 23,
   "id": "dd40d290",
   "metadata": {
    "execution": {
     "iopub.execute_input": "2023-02-16T13:33:52.486834Z",
     "iopub.status.busy": "2023-02-16T13:33:52.486520Z",
     "iopub.status.idle": "2023-02-16T13:33:52.491260Z",
     "shell.execute_reply": "2023-02-16T13:33:52.490501Z"
    },
    "papermill": {
     "duration": 0.014714,
     "end_time": "2023-02-16T13:33:52.493098",
     "exception": false,
     "start_time": "2023-02-16T13:33:52.478384",
     "status": "completed"
    },
    "tags": []
   },
   "outputs": [
    {
     "name": "stdout",
     "output_type": "stream",
     "text": [
      "['MSSubClass', 'LotFrontage', 'LotArea', 'OverallQual', 'OverallCond', 'YearBuilt', 'YearRemodAdd', 'MasVnrArea', 'BsmtFinSF1', 'BsmtFinSF2', 'BsmtUnfSF', 'TotalBsmtSF', '1stFlrSF', '2ndFlrSF', 'LowQualFinSF', 'GrLivArea', 'BsmtFullBath', 'BsmtHalfBath', 'FullBath', 'HalfBath', 'BedroomAbvGr', 'KitchenAbvGr', 'TotRmsAbvGrd', 'Fireplaces', 'GarageYrBlt', 'GarageCars', 'GarageArea', 'WoodDeckSF', 'OpenPorchSF', 'EnclosedPorch', '3SsnPorch', 'ScreenPorch', 'PoolArea', 'MiscVal', 'MoSold', 'YrSold', 'MSZoning_C (all)', 'MSZoning_FV', 'MSZoning_RH', 'MSZoning_RL', 'MSZoning_RM', 'Street_Grvl', 'Street_Pave', 'Alley_Grvl', 'Alley_Pave', 'LotShape_IR1', 'LotShape_IR2', 'LotShape_IR3', 'LotShape_Reg', 'LandContour_Bnk', 'LandContour_HLS', 'LandContour_Low', 'LandContour_Lvl', 'Utilities_AllPub', 'LotConfig_Corner', 'LotConfig_CulDSac', 'LotConfig_FR2', 'LotConfig_FR3', 'LotConfig_Inside', 'LandSlope_Gtl', 'LandSlope_Mod', 'LandSlope_Sev', 'Neighborhood_Blmngtn', 'Neighborhood_Blueste', 'Neighborhood_BrDale', 'Neighborhood_BrkSide', 'Neighborhood_ClearCr', 'Neighborhood_CollgCr', 'Neighborhood_Crawfor', 'Neighborhood_Edwards', 'Neighborhood_Gilbert', 'Neighborhood_IDOTRR', 'Neighborhood_MeadowV', 'Neighborhood_Mitchel', 'Neighborhood_NAmes', 'Neighborhood_NPkVill', 'Neighborhood_NWAmes', 'Neighborhood_NoRidge', 'Neighborhood_NridgHt', 'Neighborhood_OldTown', 'Neighborhood_SWISU', 'Neighborhood_Sawyer', 'Neighborhood_SawyerW', 'Neighborhood_Somerst', 'Neighborhood_StoneBr', 'Neighborhood_Timber', 'Neighborhood_Veenker', 'Condition1_Artery', 'Condition1_Feedr', 'Condition1_Norm', 'Condition1_PosA', 'Condition1_PosN', 'Condition1_RRAe', 'Condition1_RRAn', 'Condition1_RRNe', 'Condition1_RRNn', 'Condition2_Artery', 'Condition2_Feedr', 'Condition2_Norm', 'Condition2_PosA', 'Condition2_PosN', 'BldgType_1Fam', 'BldgType_2fmCon', 'BldgType_Duplex', 'BldgType_Twnhs', 'BldgType_TwnhsE', 'HouseStyle_1.5Fin', 'HouseStyle_1.5Unf', 'HouseStyle_1Story', 'HouseStyle_2.5Unf', 'HouseStyle_2Story', 'HouseStyle_SFoyer', 'HouseStyle_SLvl', 'RoofStyle_Flat', 'RoofStyle_Gable', 'RoofStyle_Gambrel', 'RoofStyle_Hip', 'RoofStyle_Mansard', 'RoofStyle_Shed', 'RoofMatl_CompShg', 'RoofMatl_Tar&Grv', 'RoofMatl_WdShake', 'RoofMatl_WdShngl', 'Exterior1st_AsbShng', 'Exterior1st_AsphShn', 'Exterior1st_BrkComm', 'Exterior1st_BrkFace', 'Exterior1st_CBlock', 'Exterior1st_CemntBd', 'Exterior1st_HdBoard', 'Exterior1st_MetalSd', 'Exterior1st_Plywood', 'Exterior1st_Stucco', 'Exterior1st_VinylSd', 'Exterior1st_Wd Sdng', 'Exterior1st_WdShing', 'Exterior2nd_AsbShng', 'Exterior2nd_AsphShn', 'Exterior2nd_Brk Cmn', 'Exterior2nd_BrkFace', 'Exterior2nd_CBlock', 'Exterior2nd_CmentBd', 'Exterior2nd_HdBoard', 'Exterior2nd_ImStucc', 'Exterior2nd_MetalSd', 'Exterior2nd_Plywood', 'Exterior2nd_Stone', 'Exterior2nd_Stucco', 'Exterior2nd_VinylSd', 'Exterior2nd_Wd Sdng', 'Exterior2nd_Wd Shng', 'MasVnrType_BrkCmn', 'MasVnrType_BrkFace', 'MasVnrType_None', 'MasVnrType_Stone', 'ExterQual_Ex', 'ExterQual_Fa', 'ExterQual_Gd', 'ExterQual_TA', 'ExterCond_Ex', 'ExterCond_Fa', 'ExterCond_Gd', 'ExterCond_Po', 'ExterCond_TA', 'Foundation_BrkTil', 'Foundation_CBlock', 'Foundation_PConc', 'Foundation_Slab', 'Foundation_Stone', 'Foundation_Wood', 'BsmtQual_Ex', 'BsmtQual_Fa', 'BsmtQual_Gd', 'BsmtQual_TA', 'BsmtCond_Fa', 'BsmtCond_Gd', 'BsmtCond_Po', 'BsmtCond_TA', 'BsmtExposure_Av', 'BsmtExposure_Gd', 'BsmtExposure_Mn', 'BsmtExposure_No', 'BsmtFinType1_ALQ', 'BsmtFinType1_BLQ', 'BsmtFinType1_GLQ', 'BsmtFinType1_LwQ', 'BsmtFinType1_Rec', 'BsmtFinType1_Unf', 'BsmtFinType2_ALQ', 'BsmtFinType2_BLQ', 'BsmtFinType2_GLQ', 'BsmtFinType2_LwQ', 'BsmtFinType2_Rec', 'BsmtFinType2_Unf', 'Heating_GasA', 'Heating_GasW', 'Heating_Grav', 'Heating_Wall', 'HeatingQC_Ex', 'HeatingQC_Fa', 'HeatingQC_Gd', 'HeatingQC_Po', 'HeatingQC_TA', 'CentralAir_N', 'CentralAir_Y', 'Electrical_FuseA', 'Electrical_FuseF', 'Electrical_FuseP', 'Electrical_SBrkr', 'KitchenQual_Ex', 'KitchenQual_Fa', 'KitchenQual_Gd', 'KitchenQual_TA', 'Functional_Maj1', 'Functional_Maj2', 'Functional_Min1', 'Functional_Min2', 'Functional_Mod', 'Functional_Sev', 'Functional_Typ', 'FireplaceQu_Ex', 'FireplaceQu_Fa', 'FireplaceQu_Gd', 'FireplaceQu_Po', 'FireplaceQu_TA', 'GarageType_2Types', 'GarageType_Attchd', 'GarageType_Basment', 'GarageType_BuiltIn', 'GarageType_CarPort', 'GarageType_Detchd', 'GarageFinish_Fin', 'GarageFinish_RFn', 'GarageFinish_Unf', 'GarageQual_Fa', 'GarageQual_Gd', 'GarageQual_Po', 'GarageQual_TA', 'GarageCond_Ex', 'GarageCond_Fa', 'GarageCond_Gd', 'GarageCond_Po', 'GarageCond_TA', 'PavedDrive_N', 'PavedDrive_P', 'PavedDrive_Y', 'PoolQC_Ex', 'PoolQC_Gd', 'Fence_GdPrv', 'Fence_GdWo', 'Fence_MnPrv', 'Fence_MnWw', 'MiscFeature_Gar2', 'MiscFeature_Othr', 'MiscFeature_Shed', 'SaleType_COD', 'SaleType_CWD', 'SaleType_Con', 'SaleType_ConLD', 'SaleType_ConLI', 'SaleType_ConLw', 'SaleType_New', 'SaleType_Oth', 'SaleType_WD', 'SaleCondition_Abnorml', 'SaleCondition_AdjLand', 'SaleCondition_Alloca', 'SaleCondition_Family', 'SaleCondition_Normal', 'SaleCondition_Partial']\n"
     ]
    }
   ],
   "source": [
    "\n",
    "\n",
    "\n",
    "print(features)"
   ]
  },
  {
   "cell_type": "markdown",
   "id": "a5edcb59",
   "metadata": {
    "papermill": {
     "duration": 0.007892,
     "end_time": "2023-02-16T13:33:52.508931",
     "exception": false,
     "start_time": "2023-02-16T13:33:52.501039",
     "status": "completed"
    },
    "tags": []
   },
   "source": [
    "Now, read the file of \"test\" data, and apply your model to make predictions."
   ]
  },
  {
   "cell_type": "code",
   "execution_count": 24,
   "id": "e2b39eaf",
   "metadata": {
    "execution": {
     "iopub.execute_input": "2023-02-16T13:33:52.526427Z",
     "iopub.status.busy": "2023-02-16T13:33:52.525914Z",
     "iopub.status.idle": "2023-02-16T13:33:52.555254Z",
     "shell.execute_reply": "2023-02-16T13:33:52.554135Z"
    },
    "papermill": {
     "duration": 0.040599,
     "end_time": "2023-02-16T13:33:52.557386",
     "exception": false,
     "start_time": "2023-02-16T13:33:52.516787",
     "status": "completed"
    },
    "tags": []
   },
   "outputs": [],
   "source": [
    "# path to file you will use for predictions\n",
    "test_data_path = '../input/test.csv'\n",
    "\n",
    "# read test data file using pandas\n",
    "test_data = pd.read_csv(test_data_path)\n"
   ]
  },
  {
   "cell_type": "code",
   "execution_count": 25,
   "id": "f0d98320",
   "metadata": {
    "execution": {
     "iopub.execute_input": "2023-02-16T13:33:52.574665Z",
     "iopub.status.busy": "2023-02-16T13:33:52.574290Z",
     "iopub.status.idle": "2023-02-16T13:33:52.619016Z",
     "shell.execute_reply": "2023-02-16T13:33:52.618239Z"
    },
    "papermill": {
     "duration": 0.055864,
     "end_time": "2023-02-16T13:33:52.621283",
     "exception": false,
     "start_time": "2023-02-16T13:33:52.565419",
     "status": "completed"
    },
    "tags": []
   },
   "outputs": [],
   "source": [
    "\n",
    "test_data = pd.get_dummies(test_data, columns=objects)\n",
    "\n",
    "# create test_X which comes from test_data but includes only the columns you used for prediction.\n",
    "# The list of columns is stored in a variable called features\n",
    "# create test_X which comes from test_data but includes only the columns used for prediction.\n",
    "# The list of columns is stored in a variable called 'features'\n",
    "test_X = test_data[features]\n",
    "test_X = test_X.interpolate()\n",
    "#for feature in high_variance_features:\n",
    "   # test_data[feature] = np.log(test_data[feature]+1)"
   ]
  },
  {
   "cell_type": "code",
   "execution_count": 26,
   "id": "5a31ac87",
   "metadata": {
    "execution": {
     "iopub.execute_input": "2023-02-16T13:33:52.639922Z",
     "iopub.status.busy": "2023-02-16T13:33:52.639279Z",
     "iopub.status.idle": "2023-02-16T13:33:52.667836Z",
     "shell.execute_reply": "2023-02-16T13:33:52.666771Z"
    },
    "papermill": {
     "duration": 0.040533,
     "end_time": "2023-02-16T13:33:52.670347",
     "exception": false,
     "start_time": "2023-02-16T13:33:52.629814",
     "status": "completed"
    },
    "tags": []
   },
   "outputs": [],
   "source": [
    "# make predictions which we will submit. \n",
    "test_preds = model_on_full_data.predict(test_X)"
   ]
  },
  {
   "cell_type": "markdown",
   "id": "5a97737f",
   "metadata": {
    "papermill": {
     "duration": 0.007845,
     "end_time": "2023-02-16T13:33:52.686385",
     "exception": false,
     "start_time": "2023-02-16T13:33:52.678540",
     "status": "completed"
    },
    "tags": []
   },
   "source": [
    "Before submitting, run a check to make sure your `test_preds` have the right format."
   ]
  },
  {
   "cell_type": "markdown",
   "id": "05a29194",
   "metadata": {
    "papermill": {
     "duration": 0.007753,
     "end_time": "2023-02-16T13:33:52.702433",
     "exception": false,
     "start_time": "2023-02-16T13:33:52.694680",
     "status": "completed"
    },
    "tags": []
   },
   "source": [
    "# Generate a submission\n",
    "\n",
    "Run the code cell below to generate a CSV file with your predictions that you can use to submit to the competition."
   ]
  },
  {
   "cell_type": "code",
   "execution_count": 27,
   "id": "d18711ff",
   "metadata": {
    "execution": {
     "iopub.execute_input": "2023-02-16T13:33:52.720612Z",
     "iopub.status.busy": "2023-02-16T13:33:52.719686Z",
     "iopub.status.idle": "2023-02-16T13:33:52.731247Z",
     "shell.execute_reply": "2023-02-16T13:33:52.730150Z"
    },
    "papermill": {
     "duration": 0.023457,
     "end_time": "2023-02-16T13:33:52.733801",
     "exception": false,
     "start_time": "2023-02-16T13:33:52.710344",
     "status": "completed"
    },
    "tags": []
   },
   "outputs": [],
   "source": [
    "# Run the code to save predictions in the format used for competition scoring\n",
    "\n",
    "output = pd.DataFrame({'Id': test_data.Id,\n",
    "                       'SalePrice': test_preds})\n",
    "output.to_csv('submission.csv', index=False)"
   ]
  },
  {
   "cell_type": "code",
   "execution_count": null,
   "id": "73a474e3",
   "metadata": {
    "papermill": {
     "duration": 0.007771,
     "end_time": "2023-02-16T13:33:52.749351",
     "exception": false,
     "start_time": "2023-02-16T13:33:52.741580",
     "status": "completed"
    },
    "tags": []
   },
   "outputs": [],
   "source": []
  }
 ],
 "metadata": {
  "kernelspec": {
   "display_name": "Python 3",
   "language": "python",
   "name": "python3"
  },
  "language_info": {
   "codemirror_mode": {
    "name": "ipython",
    "version": 3
   },
   "file_extension": ".py",
   "mimetype": "text/x-python",
   "name": "python",
   "nbconvert_exporter": "python",
   "pygments_lexer": "ipython3",
   "version": "3.7.12"
  },
  "papermill": {
   "default_parameters": {},
   "duration": 92.526859,
   "end_time": "2023-02-16T13:33:53.480679",
   "environment_variables": {},
   "exception": null,
   "input_path": "__notebook__.ipynb",
   "output_path": "__notebook__.ipynb",
   "parameters": {},
   "start_time": "2023-02-16T13:32:20.953820",
   "version": "2.3.4"
  }
 },
 "nbformat": 4,
 "nbformat_minor": 5
}
